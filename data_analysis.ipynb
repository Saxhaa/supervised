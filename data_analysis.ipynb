{
 "cells": [
  {
   "cell_type": "code",
   "execution_count": 145,
   "metadata": {},
   "outputs": [],
   "source": [
    "import numpy as np\n",
    "import matplotlib.pyplot as plt\n",
    "import scipy \n",
    "import sklearn \n",
    "import pandas as pd\n",
    "import csv\n",
    "import joblib\n",
    "\n",
    "from sklearn.ensemble import RandomForestClassifier, AdaBoostClassifier, GradientBoostingClassifier\n",
    "from sklearn.metrics import accuracy_score, f1_score, confusion_matrix, precision_score, recall_score, ConfusionMatrixDisplay\n",
    "from sklearn.model_selection import RandomizedSearchCV, train_test_split\n",
    "from scipy.stats import randint"
   ]
  },
  {
   "cell_type": "markdown",
   "metadata": {},
   "source": [
    "## Dataset\n",
    "Valeurs des features et labels dans 2 fichiers différents"
   ]
  },
  {
   "cell_type": "code",
   "execution_count": 146,
   "metadata": {},
   "outputs": [
    {
     "data": {
      "text/html": [
       "<div>\n",
       "<style scoped>\n",
       "    .dataframe tbody tr th:only-of-type {\n",
       "        vertical-align: middle;\n",
       "    }\n",
       "\n",
       "    .dataframe tbody tr th {\n",
       "        vertical-align: top;\n",
       "    }\n",
       "\n",
       "    .dataframe thead th {\n",
       "        text-align: right;\n",
       "    }\n",
       "</style>\n",
       "<table border=\"1\" class=\"dataframe\">\n",
       "  <thead>\n",
       "    <tr style=\"text-align: right;\">\n",
       "      <th></th>\n",
       "      <th>AGEP</th>\n",
       "      <th>COW</th>\n",
       "      <th>SCHL</th>\n",
       "      <th>MAR</th>\n",
       "      <th>OCCP</th>\n",
       "      <th>POBP</th>\n",
       "      <th>RELP</th>\n",
       "      <th>WKHP</th>\n",
       "      <th>SEX</th>\n",
       "      <th>RAC1P</th>\n",
       "    </tr>\n",
       "  </thead>\n",
       "  <tbody>\n",
       "    <tr>\n",
       "      <th>0</th>\n",
       "      <td>41.0</td>\n",
       "      <td>4.0</td>\n",
       "      <td>24.0</td>\n",
       "      <td>1.0</td>\n",
       "      <td>2555.0</td>\n",
       "      <td>6.0</td>\n",
       "      <td>1.0</td>\n",
       "      <td>60.0</td>\n",
       "      <td>2.0</td>\n",
       "      <td>1.0</td>\n",
       "    </tr>\n",
       "    <tr>\n",
       "      <th>1</th>\n",
       "      <td>77.0</td>\n",
       "      <td>7.0</td>\n",
       "      <td>22.0</td>\n",
       "      <td>1.0</td>\n",
       "      <td>4920.0</td>\n",
       "      <td>39.0</td>\n",
       "      <td>0.0</td>\n",
       "      <td>35.0</td>\n",
       "      <td>1.0</td>\n",
       "      <td>1.0</td>\n",
       "    </tr>\n",
       "    <tr>\n",
       "      <th>2</th>\n",
       "      <td>38.0</td>\n",
       "      <td>1.0</td>\n",
       "      <td>18.0</td>\n",
       "      <td>1.0</td>\n",
       "      <td>440.0</td>\n",
       "      <td>6.0</td>\n",
       "      <td>1.0</td>\n",
       "      <td>50.0</td>\n",
       "      <td>1.0</td>\n",
       "      <td>1.0</td>\n",
       "    </tr>\n",
       "    <tr>\n",
       "      <th>3</th>\n",
       "      <td>30.0</td>\n",
       "      <td>1.0</td>\n",
       "      <td>22.0</td>\n",
       "      <td>5.0</td>\n",
       "      <td>1555.0</td>\n",
       "      <td>6.0</td>\n",
       "      <td>2.0</td>\n",
       "      <td>80.0</td>\n",
       "      <td>1.0</td>\n",
       "      <td>6.0</td>\n",
       "    </tr>\n",
       "    <tr>\n",
       "      <th>4</th>\n",
       "      <td>36.0</td>\n",
       "      <td>1.0</td>\n",
       "      <td>16.0</td>\n",
       "      <td>1.0</td>\n",
       "      <td>4030.0</td>\n",
       "      <td>314.0</td>\n",
       "      <td>1.0</td>\n",
       "      <td>70.0</td>\n",
       "      <td>2.0</td>\n",
       "      <td>1.0</td>\n",
       "    </tr>\n",
       "    <tr>\n",
       "      <th>...</th>\n",
       "      <td>...</td>\n",
       "      <td>...</td>\n",
       "      <td>...</td>\n",
       "      <td>...</td>\n",
       "      <td>...</td>\n",
       "      <td>...</td>\n",
       "      <td>...</td>\n",
       "      <td>...</td>\n",
       "      <td>...</td>\n",
       "      <td>...</td>\n",
       "    </tr>\n",
       "    <tr>\n",
       "      <th>166310</th>\n",
       "      <td>25.0</td>\n",
       "      <td>1.0</td>\n",
       "      <td>20.0</td>\n",
       "      <td>1.0</td>\n",
       "      <td>4720.0</td>\n",
       "      <td>6.0</td>\n",
       "      <td>7.0</td>\n",
       "      <td>8.0</td>\n",
       "      <td>2.0</td>\n",
       "      <td>1.0</td>\n",
       "    </tr>\n",
       "    <tr>\n",
       "      <th>166311</th>\n",
       "      <td>34.0</td>\n",
       "      <td>1.0</td>\n",
       "      <td>22.0</td>\n",
       "      <td>1.0</td>\n",
       "      <td>110.0</td>\n",
       "      <td>210.0</td>\n",
       "      <td>0.0</td>\n",
       "      <td>40.0</td>\n",
       "      <td>1.0</td>\n",
       "      <td>6.0</td>\n",
       "    </tr>\n",
       "    <tr>\n",
       "      <th>166312</th>\n",
       "      <td>54.0</td>\n",
       "      <td>3.0</td>\n",
       "      <td>18.0</td>\n",
       "      <td>1.0</td>\n",
       "      <td>7700.0</td>\n",
       "      <td>6.0</td>\n",
       "      <td>1.0</td>\n",
       "      <td>50.0</td>\n",
       "      <td>1.0</td>\n",
       "      <td>1.0</td>\n",
       "    </tr>\n",
       "    <tr>\n",
       "      <th>166313</th>\n",
       "      <td>39.0</td>\n",
       "      <td>1.0</td>\n",
       "      <td>16.0</td>\n",
       "      <td>5.0</td>\n",
       "      <td>9130.0</td>\n",
       "      <td>6.0</td>\n",
       "      <td>0.0</td>\n",
       "      <td>50.0</td>\n",
       "      <td>1.0</td>\n",
       "      <td>1.0</td>\n",
       "    </tr>\n",
       "    <tr>\n",
       "      <th>166314</th>\n",
       "      <td>32.0</td>\n",
       "      <td>1.0</td>\n",
       "      <td>9.0</td>\n",
       "      <td>5.0</td>\n",
       "      <td>4020.0</td>\n",
       "      <td>303.0</td>\n",
       "      <td>0.0</td>\n",
       "      <td>40.0</td>\n",
       "      <td>2.0</td>\n",
       "      <td>8.0</td>\n",
       "    </tr>\n",
       "  </tbody>\n",
       "</table>\n",
       "<p>166315 rows × 10 columns</p>\n",
       "</div>"
      ],
      "text/plain": [
       "        AGEP  COW  SCHL  MAR    OCCP   POBP  RELP  WKHP  SEX  RAC1P\n",
       "0       41.0  4.0  24.0  1.0  2555.0    6.0   1.0  60.0  2.0    1.0\n",
       "1       77.0  7.0  22.0  1.0  4920.0   39.0   0.0  35.0  1.0    1.0\n",
       "2       38.0  1.0  18.0  1.0   440.0    6.0   1.0  50.0  1.0    1.0\n",
       "3       30.0  1.0  22.0  5.0  1555.0    6.0   2.0  80.0  1.0    6.0\n",
       "4       36.0  1.0  16.0  1.0  4030.0  314.0   1.0  70.0  2.0    1.0\n",
       "...      ...  ...   ...  ...     ...    ...   ...   ...  ...    ...\n",
       "166310  25.0  1.0  20.0  1.0  4720.0    6.0   7.0   8.0  2.0    1.0\n",
       "166311  34.0  1.0  22.0  1.0   110.0  210.0   0.0  40.0  1.0    6.0\n",
       "166312  54.0  3.0  18.0  1.0  7700.0    6.0   1.0  50.0  1.0    1.0\n",
       "166313  39.0  1.0  16.0  5.0  9130.0    6.0   0.0  50.0  1.0    1.0\n",
       "166314  32.0  1.0   9.0  5.0  4020.0  303.0   0.0  40.0  2.0    8.0\n",
       "\n",
       "[166315 rows x 10 columns]"
      ]
     },
     "execution_count": 146,
     "metadata": {},
     "output_type": "execute_result"
    }
   ],
   "source": [
    "df_attributes = pd.read_csv('db_cali/alt_acsincome_ca_features_85(1).csv')\n",
    "df_labels = pd.read_csv('db_cali/alt_acsincome_ca_labels_85.csv')\n",
    "\n",
    "df_attributes"
   ]
  },
  {
   "cell_type": "code",
   "execution_count": 147,
   "metadata": {},
   "outputs": [
    {
     "data": {
      "text/html": [
       "<div>\n",
       "<style scoped>\n",
       "    .dataframe tbody tr th:only-of-type {\n",
       "        vertical-align: middle;\n",
       "    }\n",
       "\n",
       "    .dataframe tbody tr th {\n",
       "        vertical-align: top;\n",
       "    }\n",
       "\n",
       "    .dataframe thead th {\n",
       "        text-align: right;\n",
       "    }\n",
       "</style>\n",
       "<table border=\"1\" class=\"dataframe\">\n",
       "  <thead>\n",
       "    <tr style=\"text-align: right;\">\n",
       "      <th></th>\n",
       "      <th>PINCP</th>\n",
       "    </tr>\n",
       "  </thead>\n",
       "  <tbody>\n",
       "    <tr>\n",
       "      <th>0</th>\n",
       "      <td>True</td>\n",
       "    </tr>\n",
       "    <tr>\n",
       "      <th>1</th>\n",
       "      <td>True</td>\n",
       "    </tr>\n",
       "    <tr>\n",
       "      <th>2</th>\n",
       "      <td>False</td>\n",
       "    </tr>\n",
       "    <tr>\n",
       "      <th>3</th>\n",
       "      <td>True</td>\n",
       "    </tr>\n",
       "    <tr>\n",
       "      <th>4</th>\n",
       "      <td>False</td>\n",
       "    </tr>\n",
       "    <tr>\n",
       "      <th>...</th>\n",
       "      <td>...</td>\n",
       "    </tr>\n",
       "    <tr>\n",
       "      <th>166310</th>\n",
       "      <td>False</td>\n",
       "    </tr>\n",
       "    <tr>\n",
       "      <th>166311</th>\n",
       "      <td>True</td>\n",
       "    </tr>\n",
       "    <tr>\n",
       "      <th>166312</th>\n",
       "      <td>True</td>\n",
       "    </tr>\n",
       "    <tr>\n",
       "      <th>166313</th>\n",
       "      <td>True</td>\n",
       "    </tr>\n",
       "    <tr>\n",
       "      <th>166314</th>\n",
       "      <td>False</td>\n",
       "    </tr>\n",
       "  </tbody>\n",
       "</table>\n",
       "<p>166315 rows × 1 columns</p>\n",
       "</div>"
      ],
      "text/plain": [
       "        PINCP\n",
       "0        True\n",
       "1        True\n",
       "2       False\n",
       "3        True\n",
       "4       False\n",
       "...       ...\n",
       "166310  False\n",
       "166311   True\n",
       "166312   True\n",
       "166313   True\n",
       "166314  False\n",
       "\n",
       "[166315 rows x 1 columns]"
      ]
     },
     "execution_count": 147,
     "metadata": {},
     "output_type": "execute_result"
    }
   ],
   "source": [
    "df_labels"
   ]
  },
  {
   "cell_type": "code",
   "execution_count": 148,
   "metadata": {},
   "outputs": [
    {
     "data": {
      "text/plain": [
       "(array([1.35137087e-02, 1.96778840e-02, 2.25452328e-02, 2.26404987e-02,\n",
       "        2.24921337e-02, 2.10522124e-02, 1.47568512e-02, 2.01417198e-02,\n",
       "        2.15129247e-02, 2.13520658e-02, 2.03041404e-02, 1.72681241e-02,\n",
       "        1.09696394e-02, 4.86168673e-03, 3.43269754e-03, 1.80692950e-03,\n",
       "        8.21473569e-04, 3.59199469e-04, 1.57735419e-04, 7.34016307e-05]),\n",
       " array([17.  , 20.85, 24.7 , 28.55, 32.4 , 36.25, 40.1 , 43.95, 47.8 ,\n",
       "        51.65, 55.5 , 59.35, 63.2 , 67.05, 70.9 , 74.75, 78.6 , 82.45,\n",
       "        86.3 , 90.15, 94.  ]),\n",
       " <BarContainer object of 20 artists>)"
      ]
     },
     "execution_count": 148,
     "metadata": {},
     "output_type": "execute_result"
    },
    {
     "data": {
      "image/png": "[encoded data removed]",
      "text/plain": [
       "<Figure size 640x480 with 1 Axes>"
      ]
     },
     "metadata": {},
     "output_type": "display_data"
    }
   ],
   "source": [
    "plt.hist(df_attributes[\"AGEP\"], bins=20, density=True)\n",
    "# todo: change y values for percentages ?"
   ]
  },
  {
   "cell_type": "code",
   "execution_count": 149,
   "metadata": {},
   "outputs": [
    {
     "data": {
      "text/plain": [
       "(array([7.73299161e-01, 5.48657668e-02, 8.25992845e-03, 9.01903015e-05,\n",
       "        0.00000000e+00, 2.90112137e-03, 2.08174248e-01, 4.05104771e-03,\n",
       "        1.45777591e-01, 5.25809458e-02]),\n",
       " array([1. , 1.8, 2.6, 3.4, 4.2, 5. , 5.8, 6.6, 7.4, 8.2, 9. ]),\n",
       " <BarContainer object of 10 artists>)"
      ]
     },
     "execution_count": 149,
     "metadata": {},
     "output_type": "execute_result"
    },
    {
     "data": {
      "image/png": "[encoded data removed]",
      "text/plain": [
       "<Figure size 640x480 with 1 Axes>"
      ]
     },
     "metadata": {},
     "output_type": "display_data"
    }
   ],
   "source": [
    "plt.hist(df_attributes[\"RAC1P\"], density=True)"
   ]
  },
  {
   "cell_type": "code",
   "execution_count": 150,
   "metadata": {},
   "outputs": [
    {
     "data": {
      "image/png": "[encoded data removed]",
      "text/plain": [
       "<Figure size 640x480 with 1 Axes>"
      ]
     },
     "metadata": {},
     "output_type": "display_data"
    }
   ],
   "source": [
    "count = df_attributes.SEX.value_counts()\n",
    "labels = ['Male', 'Female']\n",
    "plt.pie(count, labels=labels)\n",
    "plt.show()"
   ]
  },
  {
   "cell_type": "code",
   "execution_count": 151,
   "metadata": {},
   "outputs": [
    {
     "data": {
      "text/plain": [
       "(array([0.93302296, 0.1007125 , 0.11546935, 0.        , 0.06063365,\n",
       "        0.03671175, 0.        , 0.12161947, 0.0562358 , 0.00416593]),\n",
       " array([1. , 1.7, 2.4, 3.1, 3.8, 4.5, 5.2, 5.9, 6.6, 7.3, 8. ]),\n",
       " <BarContainer object of 10 artists>)"
      ]
     },
     "execution_count": 151,
     "metadata": {},
     "output_type": "execute_result"
    },
    {
     "data": {
      "image/png": "[encoded data removed]",
      "text/plain": [
       "<Figure size 640x480 with 1 Axes>"
      ]
     },
     "metadata": {},
     "output_type": "display_data"
    }
   ],
   "source": [
    "# extra: import geopandas as gpd\n",
    "plt.hist(df_attributes[\"COW\"], density=True)\n"
   ]
  },
  {
   "cell_type": "code",
   "execution_count": 152,
   "metadata": {},
   "outputs": [
    {
     "data": {
      "text/plain": [
       "(array([0.00785832, 0.00083655, 0.00216195, 0.00945299, 0.00771715,\n",
       "        0.01059017, 0.09267642, 0.10048507, 0.13826827, 0.06473572]),\n",
       " array([ 1. ,  3.3,  5.6,  7.9, 10.2, 12.5, 14.8, 17.1, 19.4, 21.7, 24. ]),\n",
       " <BarContainer object of 10 artists>)"
      ]
     },
     "execution_count": 152,
     "metadata": {},
     "output_type": "execute_result"
    },
    {
     "data": {
      "image/png": "[encoded data removed]",
      "text/plain": [
       "<Figure size 640x480 with 1 Axes>"
      ]
     },
     "metadata": {},
     "output_type": "display_data"
    }
   ],
   "source": [
    "plt.hist(df_attributes[\"SCHL\"], density=True)"
   ]
  },
  {
   "cell_type": "code",
   "execution_count": 153,
   "metadata": {},
   "outputs": [
    {
     "data": {
      "text/plain": [
       "(array([1.30963834, 0.        , 0.04208881, 0.        , 0.        ,\n",
       "        0.22628747, 0.        , 0.04852238, 0.        , 0.87346301]),\n",
       " array([1. , 1.4, 1.8, 2.2, 2.6, 3. , 3.4, 3.8, 4.2, 4.6, 5. ]),\n",
       " <BarContainer object of 10 artists>)"
      ]
     },
     "execution_count": 153,
     "metadata": {},
     "output_type": "execute_result"
    },
    {
     "data": {
      "image/png": "[encoded data removed]",
      "text/plain": [
       "<Figure size 640x480 with 1 Axes>"
      ]
     },
     "metadata": {},
     "output_type": "display_data"
    }
   ],
   "source": [
    "plt.hist(df_attributes[\"MAR\"], density=True)"
   ]
  },
  {
   "cell_type": "code",
   "execution_count": 154,
   "metadata": {},
   "outputs": [
    {
     "data": {
      "text/plain": [
       "(array([1.70320680e-04, 7.42034124e-05, 1.25501060e-04, 1.04970980e-04,\n",
       "        2.14350446e-04, 1.21808952e-04, 6.16269779e-05, 3.83844535e-05,\n",
       "        2.44364897e-05, 8.27264877e-05]),\n",
       " array([  10.,  992., 1974., 2956., 3938., 4920., 5902., 6884., 7866.,\n",
       "        8848., 9830.]),\n",
       " <BarContainer object of 10 artists>)"
      ]
     },
     "execution_count": 154,
     "metadata": {},
     "output_type": "execute_result"
    },
    {
     "data": {
      "image/png": "[encoded data removed]",
      "text/plain": [
       "<Figure size 640x480 with 1 Axes>"
      ]
     },
     "metadata": {},
     "output_type": "display_data"
    }
   ],
   "source": [
    "plt.hist(df_attributes[\"OCCP\"], density=True)"
   ]
  },
  {
   "cell_type": "code",
   "execution_count": 155,
   "metadata": {},
   "outputs": [
    {
     "data": {
      "text/plain": [
       "(array([1.21657420e-02, 1.64180055e-04, 3.60869935e-04, 1.25461831e-03,\n",
       "        1.18035674e-03, 2.61829132e-03, 1.75487820e-04, 8.00241856e-05,\n",
       "        3.16399973e-05, 5.19722292e-05]),\n",
       " array([  1. ,  56.3, 111.6, 166.9, 222.2, 277.5, 332.8, 388.1, 443.4,\n",
       "        498.7, 554. ]),\n",
       " <BarContainer object of 10 artists>)"
      ]
     },
     "execution_count": 155,
     "metadata": {},
     "output_type": "execute_result"
    },
    {
     "data": {
      "image/png": "[encoded data removed]",
      "text/plain": [
       "<Figure size 640x480 with 1 Axes>"
      ]
     },
     "metadata": {},
     "output_type": "display_data"
    }
   ],
   "source": [
    "plt.hist(df_attributes[\"POBP\"], density=True)"
   ]
  },
  {
   "cell_type": "code",
   "execution_count": 156,
   "metadata": {},
   "outputs": [
    {
     "data": {
      "text/plain": [
       "(array([0.40398535, 0.07859996, 0.01405908, 0.00583938, 0.00543971,\n",
       "        0.01454717, 0.0048632 , 0.03719024, 0.00780235, 0.01590886]),\n",
       " array([ 0. ,  1.7,  3.4,  5.1,  6.8,  8.5, 10.2, 11.9, 13.6, 15.3, 17. ]),\n",
       " <BarContainer object of 10 artists>)"
      ]
     },
     "execution_count": 156,
     "metadata": {},
     "output_type": "execute_result"
    },
    {
     "data": {
      "image/png": "[encoded data removed]",
      "text/plain": [
       "<Figure size 640x480 with 1 Axes>"
      ]
     },
     "metadata": {},
     "output_type": "display_data"
    }
   ],
   "source": [
    "plt.hist(df_attributes[\"RELP\"], density=True)"
   ]
  },
  {
   "cell_type": "code",
   "execution_count": 157,
   "metadata": {},
   "outputs": [
    {
     "data": {
      "text/plain": [
       "(array([0.00440583, 0.00921352, 0.01070442, 0.05470195, 0.00711644,\n",
       "        0.00991725, 0.00408311, 0.00094301, 0.0006479 , 0.00030738]),\n",
       " array([ 1. , 10.8, 20.6, 30.4, 40.2, 50. , 59.8, 69.6, 79.4, 89.2, 99. ]),\n",
       " <BarContainer object of 10 artists>)"
      ]
     },
     "execution_count": 157,
     "metadata": {},
     "output_type": "execute_result"
    },
    {
     "data": {
      "image/png": "[encoded data removed]",
      "text/plain": [
       "<Figure size 640x480 with 1 Axes>"
      ]
     },
     "metadata": {},
     "output_type": "display_data"
    }
   ],
   "source": [
    "plt.hist(df_attributes[\"WKHP\"], density=True)"
   ]
  },
  {
   "cell_type": "markdown",
   "metadata": {},
   "source": [
    "### Partitionner le jeu de données\n",
    "\n",
    "On garde 20% du dataset pour la phase de test, et 10% pour la validation. La fonction train_test_split randomise automatiquement la répartition des lignes entre train et test."
   ]
  },
  {
   "cell_type": "code",
   "execution_count": 158,
   "metadata": {},
   "outputs": [
    {
     "data": {
      "text/html": [
       "<div>\n",
       "<style scoped>\n",
       "    .dataframe tbody tr th:only-of-type {\n",
       "        vertical-align: middle;\n",
       "    }\n",
       "\n",
       "    .dataframe tbody tr th {\n",
       "        vertical-align: top;\n",
       "    }\n",
       "\n",
       "    .dataframe thead th {\n",
       "        text-align: right;\n",
       "    }\n",
       "</style>\n",
       "<table border=\"1\" class=\"dataframe\">\n",
       "  <thead>\n",
       "    <tr style=\"text-align: right;\">\n",
       "      <th></th>\n",
       "      <th>AGEP</th>\n",
       "      <th>COW</th>\n",
       "      <th>SCHL</th>\n",
       "      <th>MAR</th>\n",
       "      <th>OCCP</th>\n",
       "      <th>POBP</th>\n",
       "      <th>RELP</th>\n",
       "      <th>WKHP</th>\n",
       "      <th>SEX</th>\n",
       "      <th>RAC1P</th>\n",
       "    </tr>\n",
       "  </thead>\n",
       "  <tbody>\n",
       "    <tr>\n",
       "      <th>165496</th>\n",
       "      <td>35.0</td>\n",
       "      <td>1.0</td>\n",
       "      <td>21.0</td>\n",
       "      <td>5.0</td>\n",
       "      <td>1306.0</td>\n",
       "      <td>6.0</td>\n",
       "      <td>13.0</td>\n",
       "      <td>40.0</td>\n",
       "      <td>1.0</td>\n",
       "      <td>1.0</td>\n",
       "    </tr>\n",
       "    <tr>\n",
       "      <th>157067</th>\n",
       "      <td>43.0</td>\n",
       "      <td>1.0</td>\n",
       "      <td>21.0</td>\n",
       "      <td>1.0</td>\n",
       "      <td>310.0</td>\n",
       "      <td>247.0</td>\n",
       "      <td>1.0</td>\n",
       "      <td>40.0</td>\n",
       "      <td>1.0</td>\n",
       "      <td>6.0</td>\n",
       "    </tr>\n",
       "    <tr>\n",
       "      <th>36293</th>\n",
       "      <td>38.0</td>\n",
       "      <td>1.0</td>\n",
       "      <td>19.0</td>\n",
       "      <td>5.0</td>\n",
       "      <td>8225.0</td>\n",
       "      <td>6.0</td>\n",
       "      <td>2.0</td>\n",
       "      <td>46.0</td>\n",
       "      <td>1.0</td>\n",
       "      <td>8.0</td>\n",
       "    </tr>\n",
       "    <tr>\n",
       "      <th>151543</th>\n",
       "      <td>42.0</td>\n",
       "      <td>1.0</td>\n",
       "      <td>19.0</td>\n",
       "      <td>1.0</td>\n",
       "      <td>705.0</td>\n",
       "      <td>6.0</td>\n",
       "      <td>1.0</td>\n",
       "      <td>40.0</td>\n",
       "      <td>1.0</td>\n",
       "      <td>2.0</td>\n",
       "    </tr>\n",
       "    <tr>\n",
       "      <th>148747</th>\n",
       "      <td>32.0</td>\n",
       "      <td>2.0</td>\n",
       "      <td>21.0</td>\n",
       "      <td>4.0</td>\n",
       "      <td>2145.0</td>\n",
       "      <td>27.0</td>\n",
       "      <td>0.0</td>\n",
       "      <td>60.0</td>\n",
       "      <td>2.0</td>\n",
       "      <td>1.0</td>\n",
       "    </tr>\n",
       "    <tr>\n",
       "      <th>...</th>\n",
       "      <td>...</td>\n",
       "      <td>...</td>\n",
       "      <td>...</td>\n",
       "      <td>...</td>\n",
       "      <td>...</td>\n",
       "      <td>...</td>\n",
       "      <td>...</td>\n",
       "      <td>...</td>\n",
       "      <td>...</td>\n",
       "      <td>...</td>\n",
       "    </tr>\n",
       "    <tr>\n",
       "      <th>20563</th>\n",
       "      <td>22.0</td>\n",
       "      <td>1.0</td>\n",
       "      <td>19.0</td>\n",
       "      <td>5.0</td>\n",
       "      <td>3500.0</td>\n",
       "      <td>247.0</td>\n",
       "      <td>10.0</td>\n",
       "      <td>40.0</td>\n",
       "      <td>2.0</td>\n",
       "      <td>6.0</td>\n",
       "    </tr>\n",
       "    <tr>\n",
       "      <th>45414</th>\n",
       "      <td>29.0</td>\n",
       "      <td>1.0</td>\n",
       "      <td>21.0</td>\n",
       "      <td>5.0</td>\n",
       "      <td>110.0</td>\n",
       "      <td>39.0</td>\n",
       "      <td>0.0</td>\n",
       "      <td>50.0</td>\n",
       "      <td>1.0</td>\n",
       "      <td>1.0</td>\n",
       "    </tr>\n",
       "    <tr>\n",
       "      <th>92206</th>\n",
       "      <td>51.0</td>\n",
       "      <td>2.0</td>\n",
       "      <td>21.0</td>\n",
       "      <td>1.0</td>\n",
       "      <td>4020.0</td>\n",
       "      <td>6.0</td>\n",
       "      <td>1.0</td>\n",
       "      <td>10.0</td>\n",
       "      <td>2.0</td>\n",
       "      <td>6.0</td>\n",
       "    </tr>\n",
       "    <tr>\n",
       "      <th>52487</th>\n",
       "      <td>31.0</td>\n",
       "      <td>1.0</td>\n",
       "      <td>19.0</td>\n",
       "      <td>1.0</td>\n",
       "      <td>4720.0</td>\n",
       "      <td>4.0</td>\n",
       "      <td>0.0</td>\n",
       "      <td>32.0</td>\n",
       "      <td>2.0</td>\n",
       "      <td>1.0</td>\n",
       "    </tr>\n",
       "    <tr>\n",
       "      <th>110573</th>\n",
       "      <td>40.0</td>\n",
       "      <td>1.0</td>\n",
       "      <td>19.0</td>\n",
       "      <td>1.0</td>\n",
       "      <td>4510.0</td>\n",
       "      <td>6.0</td>\n",
       "      <td>0.0</td>\n",
       "      <td>40.0</td>\n",
       "      <td>2.0</td>\n",
       "      <td>1.0</td>\n",
       "    </tr>\n",
       "  </tbody>\n",
       "</table>\n",
       "<p>119746 rows × 10 columns</p>\n",
       "</div>"
      ],
      "text/plain": [
       "        AGEP  COW  SCHL  MAR    OCCP   POBP  RELP  WKHP  SEX  RAC1P\n",
       "165496  35.0  1.0  21.0  5.0  1306.0    6.0  13.0  40.0  1.0    1.0\n",
       "157067  43.0  1.0  21.0  1.0   310.0  247.0   1.0  40.0  1.0    6.0\n",
       "36293   38.0  1.0  19.0  5.0  8225.0    6.0   2.0  46.0  1.0    8.0\n",
       "151543  42.0  1.0  19.0  1.0   705.0    6.0   1.0  40.0  1.0    2.0\n",
       "148747  32.0  2.0  21.0  4.0  2145.0   27.0   0.0  60.0  2.0    1.0\n",
       "...      ...  ...   ...  ...     ...    ...   ...   ...  ...    ...\n",
       "20563   22.0  1.0  19.0  5.0  3500.0  247.0  10.0  40.0  2.0    6.0\n",
       "45414   29.0  1.0  21.0  5.0   110.0   39.0   0.0  50.0  1.0    1.0\n",
       "92206   51.0  2.0  21.0  1.0  4020.0    6.0   1.0  10.0  2.0    6.0\n",
       "52487   31.0  1.0  19.0  1.0  4720.0    4.0   0.0  32.0  2.0    1.0\n",
       "110573  40.0  1.0  19.0  1.0  4510.0    6.0   0.0  40.0  2.0    1.0\n",
       "\n",
       "[119746 rows x 10 columns]"
      ]
     },
     "execution_count": 158,
     "metadata": {},
     "output_type": "execute_result"
    }
   ],
   "source": [
    "from sklearn.model_selection import train_test_split\n",
    "\n",
    "\n",
    "X_train, X_test, y_train, y_test = train_test_split(df_attributes, df_labels, test_size=0.2, random_state=42)\n",
    "X_train, X_val, y_train, y_val = train_test_split(X_train, y_train, test_size=0.1, random_state=42)\n",
    "\n",
    "X_train\n"
   ]
  },
  {
   "cell_type": "code",
   "execution_count": 159,
   "metadata": {},
   "outputs": [
    {
     "data": {
      "text/html": [
       "<div>\n",
       "<style scoped>\n",
       "    .dataframe tbody tr th:only-of-type {\n",
       "        vertical-align: middle;\n",
       "    }\n",
       "\n",
       "    .dataframe tbody tr th {\n",
       "        vertical-align: top;\n",
       "    }\n",
       "\n",
       "    .dataframe thead th {\n",
       "        text-align: right;\n",
       "    }\n",
       "</style>\n",
       "<table border=\"1\" class=\"dataframe\">\n",
       "  <thead>\n",
       "    <tr style=\"text-align: right;\">\n",
       "      <th></th>\n",
       "      <th>AGEP</th>\n",
       "      <th>COW</th>\n",
       "      <th>SCHL</th>\n",
       "      <th>MAR</th>\n",
       "      <th>OCCP</th>\n",
       "      <th>POBP</th>\n",
       "      <th>RELP</th>\n",
       "      <th>WKHP</th>\n",
       "      <th>SEX</th>\n",
       "      <th>RAC1P</th>\n",
       "    </tr>\n",
       "  </thead>\n",
       "  <tbody>\n",
       "    <tr>\n",
       "      <th>count</th>\n",
       "      <td>166315.000000</td>\n",
       "      <td>166315.000000</td>\n",
       "      <td>166315.000000</td>\n",
       "      <td>166315.000000</td>\n",
       "      <td>166315.000000</td>\n",
       "      <td>166315.000000</td>\n",
       "      <td>166315.000000</td>\n",
       "      <td>166315.000000</td>\n",
       "      <td>166315.000000</td>\n",
       "      <td>166315.000000</td>\n",
       "    </tr>\n",
       "    <tr>\n",
       "      <th>mean</th>\n",
       "      <td>42.736235</td>\n",
       "      <td>2.144551</td>\n",
       "      <td>18.470054</td>\n",
       "      <td>2.653633</td>\n",
       "      <td>4019.729279</td>\n",
       "      <td>94.364718</td>\n",
       "      <td>2.506617</td>\n",
       "      <td>37.859255</td>\n",
       "      <td>1.471972</td>\n",
       "      <td>3.071623</td>\n",
       "    </tr>\n",
       "    <tr>\n",
       "      <th>std</th>\n",
       "      <td>14.882790</td>\n",
       "      <td>1.888220</td>\n",
       "      <td>3.938362</td>\n",
       "      <td>1.846417</td>\n",
       "      <td>2638.167883</td>\n",
       "      <td>123.472067</td>\n",
       "      <td>4.443905</td>\n",
       "      <td>13.014087</td>\n",
       "      <td>0.499215</td>\n",
       "      <td>2.916045</td>\n",
       "    </tr>\n",
       "    <tr>\n",
       "      <th>min</th>\n",
       "      <td>17.000000</td>\n",
       "      <td>1.000000</td>\n",
       "      <td>1.000000</td>\n",
       "      <td>1.000000</td>\n",
       "      <td>10.000000</td>\n",
       "      <td>1.000000</td>\n",
       "      <td>0.000000</td>\n",
       "      <td>1.000000</td>\n",
       "      <td>1.000000</td>\n",
       "      <td>1.000000</td>\n",
       "    </tr>\n",
       "    <tr>\n",
       "      <th>25%</th>\n",
       "      <td>30.000000</td>\n",
       "      <td>1.000000</td>\n",
       "      <td>16.000000</td>\n",
       "      <td>1.000000</td>\n",
       "      <td>2014.000000</td>\n",
       "      <td>6.000000</td>\n",
       "      <td>0.000000</td>\n",
       "      <td>32.000000</td>\n",
       "      <td>1.000000</td>\n",
       "      <td>1.000000</td>\n",
       "    </tr>\n",
       "    <tr>\n",
       "      <th>50%</th>\n",
       "      <td>42.000000</td>\n",
       "      <td>1.000000</td>\n",
       "      <td>19.000000</td>\n",
       "      <td>1.000000</td>\n",
       "      <td>4110.000000</td>\n",
       "      <td>9.000000</td>\n",
       "      <td>1.000000</td>\n",
       "      <td>40.000000</td>\n",
       "      <td>1.000000</td>\n",
       "      <td>1.000000</td>\n",
       "    </tr>\n",
       "    <tr>\n",
       "      <th>75%</th>\n",
       "      <td>55.000000</td>\n",
       "      <td>3.000000</td>\n",
       "      <td>21.000000</td>\n",
       "      <td>5.000000</td>\n",
       "      <td>5521.000000</td>\n",
       "      <td>212.000000</td>\n",
       "      <td>2.000000</td>\n",
       "      <td>40.000000</td>\n",
       "      <td>2.000000</td>\n",
       "      <td>6.000000</td>\n",
       "    </tr>\n",
       "    <tr>\n",
       "      <th>max</th>\n",
       "      <td>94.000000</td>\n",
       "      <td>8.000000</td>\n",
       "      <td>24.000000</td>\n",
       "      <td>5.000000</td>\n",
       "      <td>9830.000000</td>\n",
       "      <td>554.000000</td>\n",
       "      <td>17.000000</td>\n",
       "      <td>99.000000</td>\n",
       "      <td>2.000000</td>\n",
       "      <td>9.000000</td>\n",
       "    </tr>\n",
       "  </tbody>\n",
       "</table>\n",
       "</div>"
      ],
      "text/plain": [
       "                AGEP            COW           SCHL            MAR  \\\n",
       "count  166315.000000  166315.000000  166315.000000  166315.000000   \n",
       "mean       42.736235       2.144551      18.470054       2.653633   \n",
       "std        14.882790       1.888220       3.938362       1.846417   \n",
       "min        17.000000       1.000000       1.000000       1.000000   \n",
       "25%        30.000000       1.000000      16.000000       1.000000   \n",
       "50%        42.000000       1.000000      19.000000       1.000000   \n",
       "75%        55.000000       3.000000      21.000000       5.000000   \n",
       "max        94.000000       8.000000      24.000000       5.000000   \n",
       "\n",
       "                OCCP           POBP           RELP           WKHP  \\\n",
       "count  166315.000000  166315.000000  166315.000000  166315.000000   \n",
       "mean     4019.729279      94.364718       2.506617      37.859255   \n",
       "std      2638.167883     123.472067       4.443905      13.014087   \n",
       "min        10.000000       1.000000       0.000000       1.000000   \n",
       "25%      2014.000000       6.000000       0.000000      32.000000   \n",
       "50%      4110.000000       9.000000       1.000000      40.000000   \n",
       "75%      5521.000000     212.000000       2.000000      40.000000   \n",
       "max      9830.000000     554.000000      17.000000      99.000000   \n",
       "\n",
       "                 SEX          RAC1P  \n",
       "count  166315.000000  166315.000000  \n",
       "mean        1.471972       3.071623  \n",
       "std         0.499215       2.916045  \n",
       "min         1.000000       1.000000  \n",
       "25%         1.000000       1.000000  \n",
       "50%         1.000000       1.000000  \n",
       "75%         2.000000       6.000000  \n",
       "max         2.000000       9.000000  "
      ]
     },
     "execution_count": 159,
     "metadata": {},
     "output_type": "execute_result"
    }
   ],
   "source": [
    "df_attributes.describe()"
   ]
  },
  {
   "cell_type": "markdown",
   "metadata": {},
   "source": [
    "### Standardiser les valeurs \"continues\" : âge & nombre d'heures au travail"
   ]
  },
  {
   "cell_type": "code",
   "execution_count": 160,
   "metadata": {},
   "outputs": [
    {
     "data": {
      "text/html": [
       "<div>\n",
       "<style scoped>\n",
       "    .dataframe tbody tr th:only-of-type {\n",
       "        vertical-align: middle;\n",
       "    }\n",
       "\n",
       "    .dataframe tbody tr th {\n",
       "        vertical-align: top;\n",
       "    }\n",
       "\n",
       "    .dataframe thead th {\n",
       "        text-align: right;\n",
       "    }\n",
       "</style>\n",
       "<table border=\"1\" class=\"dataframe\">\n",
       "  <thead>\n",
       "    <tr style=\"text-align: right;\">\n",
       "      <th></th>\n",
       "      <th>AGEP</th>\n",
       "      <th>COW</th>\n",
       "      <th>SCHL</th>\n",
       "      <th>MAR</th>\n",
       "      <th>OCCP</th>\n",
       "      <th>POBP</th>\n",
       "      <th>RELP</th>\n",
       "      <th>WKHP</th>\n",
       "      <th>SEX</th>\n",
       "      <th>RAC1P</th>\n",
       "    </tr>\n",
       "  </thead>\n",
       "  <tbody>\n",
       "    <tr>\n",
       "      <th>21546</th>\n",
       "      <td>0.017536</td>\n",
       "      <td>3.0</td>\n",
       "      <td>23.0</td>\n",
       "      <td>1.0</td>\n",
       "      <td>2310.0</td>\n",
       "      <td>254.0</td>\n",
       "      <td>1.0</td>\n",
       "      <td>0.161922</td>\n",
       "      <td>2.0</td>\n",
       "      <td>1.0</td>\n",
       "    </tr>\n",
       "    <tr>\n",
       "      <th>116870</th>\n",
       "      <td>0.219024</td>\n",
       "      <td>4.0</td>\n",
       "      <td>16.0</td>\n",
       "      <td>1.0</td>\n",
       "      <td>3424.0</td>\n",
       "      <td>233.0</td>\n",
       "      <td>0.0</td>\n",
       "      <td>0.161922</td>\n",
       "      <td>1.0</td>\n",
       "      <td>6.0</td>\n",
       "    </tr>\n",
       "    <tr>\n",
       "      <th>96563</th>\n",
       "      <td>-0.654089</td>\n",
       "      <td>1.0</td>\n",
       "      <td>7.0</td>\n",
       "      <td>5.0</td>\n",
       "      <td>6260.0</td>\n",
       "      <td>303.0</td>\n",
       "      <td>12.0</td>\n",
       "      <td>0.161922</td>\n",
       "      <td>1.0</td>\n",
       "      <td>1.0</td>\n",
       "    </tr>\n",
       "    <tr>\n",
       "      <th>92421</th>\n",
       "      <td>1.427949</td>\n",
       "      <td>3.0</td>\n",
       "      <td>19.0</td>\n",
       "      <td>3.0</td>\n",
       "      <td>3602.0</td>\n",
       "      <td>6.0</td>\n",
       "      <td>0.0</td>\n",
       "      <td>1.700229</td>\n",
       "      <td>1.0</td>\n",
       "      <td>1.0</td>\n",
       "    </tr>\n",
       "    <tr>\n",
       "      <th>79799</th>\n",
       "      <td>-0.922739</td>\n",
       "      <td>1.0</td>\n",
       "      <td>19.0</td>\n",
       "      <td>5.0</td>\n",
       "      <td>5230.0</td>\n",
       "      <td>6.0</td>\n",
       "      <td>0.0</td>\n",
       "      <td>0.161922</td>\n",
       "      <td>2.0</td>\n",
       "      <td>2.0</td>\n",
       "    </tr>\n",
       "  </tbody>\n",
       "</table>\n",
       "</div>"
      ],
      "text/plain": [
       "            AGEP  COW  SCHL  MAR    OCCP   POBP  RELP      WKHP  SEX  RAC1P\n",
       "21546   0.017536  3.0  23.0  1.0  2310.0  254.0   1.0  0.161922  2.0    1.0\n",
       "116870  0.219024  4.0  16.0  1.0  3424.0  233.0   0.0  0.161922  1.0    6.0\n",
       "96563  -0.654089  1.0   7.0  5.0  6260.0  303.0  12.0  0.161922  1.0    1.0\n",
       "92421   1.427949  3.0  19.0  3.0  3602.0    6.0   0.0  1.700229  1.0    1.0\n",
       "79799  -0.922739  1.0  19.0  5.0  5230.0    6.0   0.0  0.161922  2.0    2.0"
      ]
     },
     "execution_count": 160,
     "metadata": {},
     "output_type": "execute_result"
    }
   ],
   "source": [
    "from sklearn.preprocessing import StandardScaler\n",
    "\n",
    "columns_to_standardize = ['AGEP', 'WKHP']\n",
    "scaler_agep = StandardScaler()\n",
    "scaler_wkhp = StandardScaler()\n",
    "\n",
    "\n",
    "X_train['AGEP'] = scaler_agep.fit_transform(X_train[['AGEP']])\n",
    "X_test['AGEP'] = scaler_agep.transform(X_test[['AGEP']])\n",
    "\n",
    "X_train['WKHP'] = scaler_wkhp.fit_transform(X_train[['WKHP']])\n",
    "X_test['WKHP'] = scaler_wkhp.transform(X_test[['WKHP']])\n",
    "\n",
    "X_test.head()"
   ]
  },
  {
   "cell_type": "code",
   "execution_count": 161,
   "metadata": {},
   "outputs": [
    {
     "data": {
      "text/html": [
       "<div>\n",
       "<style scoped>\n",
       "    .dataframe tbody tr th:only-of-type {\n",
       "        vertical-align: middle;\n",
       "    }\n",
       "\n",
       "    .dataframe tbody tr th {\n",
       "        vertical-align: top;\n",
       "    }\n",
       "\n",
       "    .dataframe thead th {\n",
       "        text-align: right;\n",
       "    }\n",
       "</style>\n",
       "<table border=\"1\" class=\"dataframe\">\n",
       "  <thead>\n",
       "    <tr style=\"text-align: right;\">\n",
       "      <th></th>\n",
       "      <th>AGEP</th>\n",
       "      <th>COW</th>\n",
       "      <th>SCHL</th>\n",
       "      <th>MAR</th>\n",
       "      <th>OCCP</th>\n",
       "      <th>POBP</th>\n",
       "      <th>RELP</th>\n",
       "      <th>WKHP</th>\n",
       "      <th>SEX</th>\n",
       "      <th>RAC1P</th>\n",
       "    </tr>\n",
       "  </thead>\n",
       "  <tbody>\n",
       "    <tr>\n",
       "      <th>21546</th>\n",
       "      <td>0.017536</td>\n",
       "      <td>3.0</td>\n",
       "      <td>23.0</td>\n",
       "      <td>1.0</td>\n",
       "      <td>2310.0</td>\n",
       "      <td>254.0</td>\n",
       "      <td>1.0</td>\n",
       "      <td>0.161922</td>\n",
       "      <td>2.0</td>\n",
       "      <td>1.0</td>\n",
       "    </tr>\n",
       "    <tr>\n",
       "      <th>116870</th>\n",
       "      <td>0.219024</td>\n",
       "      <td>4.0</td>\n",
       "      <td>16.0</td>\n",
       "      <td>1.0</td>\n",
       "      <td>3424.0</td>\n",
       "      <td>233.0</td>\n",
       "      <td>0.0</td>\n",
       "      <td>0.161922</td>\n",
       "      <td>1.0</td>\n",
       "      <td>6.0</td>\n",
       "    </tr>\n",
       "    <tr>\n",
       "      <th>96563</th>\n",
       "      <td>-0.654089</td>\n",
       "      <td>1.0</td>\n",
       "      <td>7.0</td>\n",
       "      <td>5.0</td>\n",
       "      <td>6260.0</td>\n",
       "      <td>303.0</td>\n",
       "      <td>12.0</td>\n",
       "      <td>0.161922</td>\n",
       "      <td>1.0</td>\n",
       "      <td>1.0</td>\n",
       "    </tr>\n",
       "    <tr>\n",
       "      <th>92421</th>\n",
       "      <td>1.427949</td>\n",
       "      <td>3.0</td>\n",
       "      <td>19.0</td>\n",
       "      <td>3.0</td>\n",
       "      <td>3602.0</td>\n",
       "      <td>6.0</td>\n",
       "      <td>0.0</td>\n",
       "      <td>1.700229</td>\n",
       "      <td>1.0</td>\n",
       "      <td>1.0</td>\n",
       "    </tr>\n",
       "    <tr>\n",
       "      <th>79799</th>\n",
       "      <td>-0.922739</td>\n",
       "      <td>1.0</td>\n",
       "      <td>19.0</td>\n",
       "      <td>5.0</td>\n",
       "      <td>5230.0</td>\n",
       "      <td>6.0</td>\n",
       "      <td>0.0</td>\n",
       "      <td>0.161922</td>\n",
       "      <td>2.0</td>\n",
       "      <td>2.0</td>\n",
       "    </tr>\n",
       "    <tr>\n",
       "      <th>...</th>\n",
       "      <td>...</td>\n",
       "      <td>...</td>\n",
       "      <td>...</td>\n",
       "      <td>...</td>\n",
       "      <td>...</td>\n",
       "      <td>...</td>\n",
       "      <td>...</td>\n",
       "      <td>...</td>\n",
       "      <td>...</td>\n",
       "      <td>...</td>\n",
       "    </tr>\n",
       "    <tr>\n",
       "      <th>78472</th>\n",
       "      <td>0.890649</td>\n",
       "      <td>2.0</td>\n",
       "      <td>22.0</td>\n",
       "      <td>1.0</td>\n",
       "      <td>1530.0</td>\n",
       "      <td>213.0</td>\n",
       "      <td>1.0</td>\n",
       "      <td>0.161922</td>\n",
       "      <td>1.0</td>\n",
       "      <td>1.0</td>\n",
       "    </tr>\n",
       "    <tr>\n",
       "      <th>49911</th>\n",
       "      <td>0.621999</td>\n",
       "      <td>1.0</td>\n",
       "      <td>21.0</td>\n",
       "      <td>1.0</td>\n",
       "      <td>800.0</td>\n",
       "      <td>233.0</td>\n",
       "      <td>0.0</td>\n",
       "      <td>0.161922</td>\n",
       "      <td>1.0</td>\n",
       "      <td>6.0</td>\n",
       "    </tr>\n",
       "    <tr>\n",
       "      <th>107964</th>\n",
       "      <td>-0.654089</td>\n",
       "      <td>1.0</td>\n",
       "      <td>20.0</td>\n",
       "      <td>5.0</td>\n",
       "      <td>4720.0</td>\n",
       "      <td>6.0</td>\n",
       "      <td>10.0</td>\n",
       "      <td>-0.991808</td>\n",
       "      <td>2.0</td>\n",
       "      <td>1.0</td>\n",
       "    </tr>\n",
       "    <tr>\n",
       "      <th>137985</th>\n",
       "      <td>-0.721251</td>\n",
       "      <td>1.0</td>\n",
       "      <td>17.0</td>\n",
       "      <td>1.0</td>\n",
       "      <td>4110.0</td>\n",
       "      <td>207.0</td>\n",
       "      <td>1.0</td>\n",
       "      <td>0.315753</td>\n",
       "      <td>2.0</td>\n",
       "      <td>6.0</td>\n",
       "    </tr>\n",
       "    <tr>\n",
       "      <th>162527</th>\n",
       "      <td>-0.989901</td>\n",
       "      <td>2.0</td>\n",
       "      <td>18.0</td>\n",
       "      <td>5.0</td>\n",
       "      <td>2025.0</td>\n",
       "      <td>6.0</td>\n",
       "      <td>7.0</td>\n",
       "      <td>-0.607232</td>\n",
       "      <td>1.0</td>\n",
       "      <td>2.0</td>\n",
       "    </tr>\n",
       "  </tbody>\n",
       "</table>\n",
       "<p>33263 rows × 10 columns</p>\n",
       "</div>"
      ],
      "text/plain": [
       "            AGEP  COW  SCHL  MAR    OCCP   POBP  RELP      WKHP  SEX  RAC1P\n",
       "21546   0.017536  3.0  23.0  1.0  2310.0  254.0   1.0  0.161922  2.0    1.0\n",
       "116870  0.219024  4.0  16.0  1.0  3424.0  233.0   0.0  0.161922  1.0    6.0\n",
       "96563  -0.654089  1.0   7.0  5.0  6260.0  303.0  12.0  0.161922  1.0    1.0\n",
       "92421   1.427949  3.0  19.0  3.0  3602.0    6.0   0.0  1.700229  1.0    1.0\n",
       "79799  -0.922739  1.0  19.0  5.0  5230.0    6.0   0.0  0.161922  2.0    2.0\n",
       "...          ...  ...   ...  ...     ...    ...   ...       ...  ...    ...\n",
       "78472   0.890649  2.0  22.0  1.0  1530.0  213.0   1.0  0.161922  1.0    1.0\n",
       "49911   0.621999  1.0  21.0  1.0   800.0  233.0   0.0  0.161922  1.0    6.0\n",
       "107964 -0.654089  1.0  20.0  5.0  4720.0    6.0  10.0 -0.991808  2.0    1.0\n",
       "137985 -0.721251  1.0  17.0  1.0  4110.0  207.0   1.0  0.315753  2.0    6.0\n",
       "162527 -0.989901  2.0  18.0  5.0  2025.0    6.0   7.0 -0.607232  1.0    2.0\n",
       "\n",
       "[33263 rows x 10 columns]"
      ]
     },
     "execution_count": 161,
     "metadata": {},
     "output_type": "execute_result"
    }
   ],
   "source": [
    "columns_to_standardize = [\"AGEP\", \"WKHP\"]\n",
    "scaler = StandardScaler()\n",
    "\n",
    "X_train_scaled = X_train\n",
    "X_test_scaled = X_test\n",
    "\n",
    "X_train_scaled[columns_to_standardize] = scaler.fit_transform(X_train_scaled[columns_to_standardize])\n",
    "X_test_scaled[columns_to_standardize] = scaler.transform(X_test_scaled[columns_to_standardize])\n",
    "\n",
    "# X_train['WKHP'] = scaler_wkhp.fit_transform(X_train[['WKHP']])\n",
    "# X_test['WKHP'] = scaler_wkhp.transform(X_test[['WKHP']])\n",
    "\n",
    "X_test_scaled"
   ]
  },
  {
   "cell_type": "code",
   "execution_count": 162,
   "metadata": {},
   "outputs": [
    {
     "data": {
      "text/plain": [
       "['scaler.joblib']"
      ]
     },
     "execution_count": 162,
     "metadata": {},
     "output_type": "execute_result"
    }
   ],
   "source": [
    "joblib.dump ( scaler , 'scaler.joblib')"
   ]
  },
  {
   "cell_type": "code",
   "execution_count": 163,
   "metadata": {},
   "outputs": [
    {
     "data": {
      "text/plain": [
       "(array([0.24671061, 0.33676854, 0.32286503, 0.26058183, 0.31868268,\n",
       "        0.2807508 , 0.11754199, 0.03938521, 0.00862308, 0.00176014]),\n",
       " array([-1.72868902, -1.21153767, -0.69438632, -0.17723498,  0.33991637,\n",
       "         0.85706772,  1.37421907,  1.89137041,  2.40852176,  2.92567311,\n",
       "         3.44282445]),\n",
       " <BarContainer object of 10 artists>)"
      ]
     },
     "execution_count": 163,
     "metadata": {},
     "output_type": "execute_result"
    },
    {
     "data": {
      "image/png": "[encoded data removed]",
      "text/plain": [
       "<Figure size 640x480 with 1 Axes>"
      ]
     },
     "metadata": {},
     "output_type": "display_data"
    }
   ],
   "source": [
    "plt.hist(X_train['AGEP'], density=True)"
   ]
  },
  {
   "cell_type": "markdown",
   "metadata": {},
   "source": [
    "###TODO : Conservez le calcul effectué pour la standardisation du jeu de données en utilisant le pa-\n",
    "ckage joblib https://joblib.readthedocs.io/en/latest/index.html#module-joblib\n",
    "et plus spécifiquement la méthode dump pour conserver un objet Python dans un fichier."
   ]
  },
  {
   "cell_type": "markdown",
   "metadata": {},
   "source": [
    "### 3. Recherche de bons modèles\n",
    "\n",
    "3.1. Random Forest\n"
   ]
  },
  {
   "cell_type": "markdown",
   "metadata": {},
   "source": [
    "3.1.1. Qualité d’apprentissage avec le paramétrage par défaut.\n"
   ]
  },
  {
   "cell_type": "code",
   "execution_count": 164,
   "metadata": {},
   "outputs": [
    {
     "name": "stderr",
     "output_type": "stream",
     "text": [
      "/home/sacha/miniconda3/envs/clustering-tp/lib/python3.12/site-packages/sklearn/base.py:1473: DataConversionWarning: A column-vector y was passed when a 1d array was expected. Please change the shape of y to (n_samples,), for example using ravel().\n",
      "  return fit_method(estimator, *args, **kwargs)\n"
     ]
    },
    {
     "data": {
      "text/plain": [
       "array([ True,  True, False, ..., False, False, False])"
      ]
     },
     "execution_count": 164,
     "metadata": {},
     "output_type": "execute_result"
    }
   ],
   "source": [
    "rf = RandomForestClassifier()\n",
    "rf.fit(X_train, y_train)\n",
    "\n",
    "y_pred_rf = rf.predict(X_test)\n",
    "\n",
    "y_pred_rf"
   ]
  },
  {
   "cell_type": "code",
   "execution_count": 165,
   "metadata": {},
   "outputs": [
    {
     "name": "stdout",
     "output_type": "stream",
     "text": [
      "Accuracy:  0.8154405796230045 \n",
      "F1 Score:  0.7728231506494467\n"
     ]
    }
   ],
   "source": [
    "accuracy = accuracy_score(y_test, y_pred_rf)\n",
    "f_score = f1_score(y_test, y_pred_rf)\n",
    "\n",
    "print(\"Accuracy: \", accuracy, f\"\\nF1 Score: \", f_score)"
   ]
  },
  {
   "cell_type": "code",
   "execution_count": 166,
   "metadata": {},
   "outputs": [
    {
     "data": {
      "image/png": "[encoded data removed]",
      "text/plain": [
       "<Figure size 640x480 with 2 Axes>"
      ]
     },
     "metadata": {},
     "output_type": "display_data"
    }
   ],
   "source": [
    "from sklearn.metrics import ConfusionMatrixDisplay\n",
    "\n",
    "disp = ConfusionMatrixDisplay.from_predictions(y_test, y_pred_rf, normalize='pred')"
   ]
  },
  {
   "cell_type": "markdown",
   "metadata": {},
   "source": [
    "validation croisée (TP2 sacha alone sad snif snif)"
   ]
  },
  {
   "cell_type": "code",
   "execution_count": 167,
   "metadata": {},
   "outputs": [
    {
     "name": "stderr",
     "output_type": "stream",
     "text": [
      "/home/sacha/miniconda3/envs/clustering-tp/lib/python3.12/site-packages/sklearn/base.py:1473: DataConversionWarning: A column-vector y was passed when a 1d array was expected. Please change the shape of y to (n_samples,), for example using ravel().\n",
      "  return fit_method(estimator, *args, **kwargs)\n",
      "/home/sacha/miniconda3/envs/clustering-tp/lib/python3.12/site-packages/sklearn/base.py:1473: DataConversionWarning: A column-vector y was passed when a 1d array was expected. Please change the shape of y to (n_samples,), for example using ravel().\n",
      "  return fit_method(estimator, *args, **kwargs)\n",
      "/home/sacha/miniconda3/envs/clustering-tp/lib/python3.12/site-packages/sklearn/base.py:1473: DataConversionWarning: A column-vector y was passed when a 1d array was expected. Please change the shape of y to (n_samples,), for example using ravel().\n",
      "  return fit_method(estimator, *args, **kwargs)\n",
      "/home/sacha/miniconda3/envs/clustering-tp/lib/python3.12/site-packages/sklearn/base.py:1473: DataConversionWarning: A column-vector y was passed when a 1d array was expected. Please change the shape of y to (n_samples,), for example using ravel().\n",
      "  return fit_method(estimator, *args, **kwargs)\n",
      "/home/sacha/miniconda3/envs/clustering-tp/lib/python3.12/site-packages/sklearn/base.py:1473: DataConversionWarning: A column-vector y was passed when a 1d array was expected. Please change the shape of y to (n_samples,), for example using ravel().\n",
      "  return fit_method(estimator, *args, **kwargs)\n"
     ]
    },
    {
     "name": "stdout",
     "output_type": "stream",
     "text": [
      "Accuracy:  0.8118266998480116\n"
     ]
    }
   ],
   "source": [
    "from sklearn.model_selection import cross_val_predict\n",
    "\n",
    "y_cross_pred= cross_val_predict(rf,X_train_scaled,y_train,cv=5)\n",
    "accuracy_cross = accuracy_score(y_train,y_cross_pred)\n",
    "\n",
    "\n",
    "print(\"Accuracy: \", accuracy_cross)\n",
    "#on utilise pas test car le dataset est deja assez grand\n"
   ]
  },
  {
   "cell_type": "code",
   "execution_count": 168,
   "metadata": {},
   "outputs": [
    {
     "name": "stdout",
     "output_type": "stream",
     "text": [
      "\n",
      "F1 Score avec valisation croisée:  0.7671031823960476\n",
      "\n",
      "F1 Score  0.7728231506494467\n"
     ]
    }
   ],
   "source": [
    "f_score_cross = f1_score(y_train, y_cross_pred)\n",
    "print(f\"\\nF1 Score avec valisation croisée: \", f_score_cross)\n",
    "print(f\"\\nF1 Score \", f_score)"
   ]
  },
  {
   "cell_type": "code",
   "execution_count": 169,
   "metadata": {},
   "outputs": [
    {
     "data": {
      "image/png": "[encoded data removed]",
      "text/plain": [
       "<Figure size 640x480 with 2 Axes>"
      ]
     },
     "metadata": {},
     "output_type": "display_data"
    }
   ],
   "source": [
    "disp = ConfusionMatrixDisplay.from_predictions(y_train, y_cross_pred, normalize='pred')"
   ]
  },
  {
   "cell_type": "markdown",
   "metadata": {},
   "source": [
    "3.1.2 Amélioration du modèle Random Forest\n",
    "\n"
   ]
  },
  {
   "cell_type": "code",
   "execution_count": 170,
   "metadata": {},
   "outputs": [
    {
     "data": {
      "text/plain": [
       "{'bootstrap': True,\n",
       " 'ccp_alpha': 0.0,\n",
       " 'class_weight': None,\n",
       " 'criterion': 'gini',\n",
       " 'max_depth': None,\n",
       " 'max_features': 'sqrt',\n",
       " 'max_leaf_nodes': None,\n",
       " 'max_samples': None,\n",
       " 'min_impurity_decrease': 0.0,\n",
       " 'min_samples_leaf': 1,\n",
       " 'min_samples_split': 2,\n",
       " 'min_weight_fraction_leaf': 0.0,\n",
       " 'monotonic_cst': None,\n",
       " 'n_estimators': 100,\n",
       " 'n_jobs': None,\n",
       " 'oob_score': False,\n",
       " 'random_state': None,\n",
       " 'verbose': 0,\n",
       " 'warm_start': False}"
      ]
     },
     "execution_count": 170,
     "metadata": {},
     "output_type": "execute_result"
    }
   ],
   "source": [
    "rf.get_params()"
   ]
  },
  {
   "cell_type": "code",
   "execution_count": 171,
   "metadata": {},
   "outputs": [],
   "source": [
    "X_small, _,y_small, _ = train_test_split(X_train_scaled, y_train, test_size=0.5, random_state=42)\n",
    "\n",
    "#On prend 60% du set de test pour accelerer\n"
   ]
  },
  {
   "cell_type": "code",
   "execution_count": 172,
   "metadata": {},
   "outputs": [],
   "source": [
    "from sklearn.model_selection import GridSearchCV\n",
    "\n",
    "param_grid = {\n",
    "    'n_estimators': [10, 50, 100],       # Nombre d'arbres\n",
    "    'max_depth': [None, 10, 20],        # Profondeur maximale de l'arbre\n",
    "    'min_samples_split': [2, 5, 10],    # Minimum d'échantillons pour diviser un nœud\n",
    "    'min_samples_leaf': [1, 2, 4]       # Minimum d'échantillons dans une feuille\n",
    "}\n",
    "\n",
    "rf_cv = GridSearchCV(estimator=rf, \n",
    "                           param_grid=param_grid, \n",
    "                           cv=5,             # Nombre de plis pour la validation croisée\n",
    "                           scoring='accuracy',  # Métrique d'évaluation\n",
    "                           verbose=2)        # Utiliser tous les cœurs pour accélérer\n",
    "\n",
    "\n",
    " #rf_cv.fit(X_small, y_small)\n",
    "\n",
    "\n",
    "\n"
   ]
  },
  {
   "cell_type": "code",
   "execution_count": 173,
   "metadata": {},
   "outputs": [
    {
     "data": {
      "text/plain": [
       "'print(\"Meilleurs paramètres\\xa0:\",rf_cv.best_params_)\\n\\n# Meilleur score obtenu\\nprint(\"Meilleur score\\xa0:\", rf_cv.best_score_)\\n\\n# Modèle ajusté avec les meilleurs paramètres\\nbest_model_rf = rf_cv.best_estimator_\\n\\n# Évaluer sur l\\'ensemble de test\\ntest_accuracy = best_model_rf.score(X_test, y_test)\\nprint(\"accuracy\\xa0:\", test_accuracy)'"
      ]
     },
     "execution_count": 173,
     "metadata": {},
     "output_type": "execute_result"
    }
   ],
   "source": [
    "\"\"\"print(\"Meilleurs paramètres :\",rf_cv.best_params_)\n",
    "\n",
    "# Meilleur score obtenu\n",
    "print(\"Meilleur score :\", rf_cv.best_score_)\n",
    "\n",
    "# Modèle ajusté avec les meilleurs paramètres\n",
    "best_model_rf = rf_cv.best_estimator_\n",
    "\n",
    "# Évaluer sur l'ensemble de test\n",
    "test_accuracy = best_model_rf.score(X_test, y_test)\n",
    "print(\"accuracy :\", test_accuracy)\"\"\"\n"
   ]
  },
  {
   "cell_type": "markdown",
   "metadata": {},
   "source": [
    "3.1.3  Enregistrement du meilleur modèle Rf"
   ]
  },
  {
   "cell_type": "code",
   "execution_count": 174,
   "metadata": {},
   "outputs": [],
   "source": [
    "##joblib.dump(best_model_rf,'RandomForest_BestModel_08166.joblib')"
   ]
  },
  {
   "cell_type": "markdown",
   "metadata": {},
   "source": [
    "2. AdaBoost"
   ]
  },
  {
   "cell_type": "code",
   "execution_count": 212,
   "metadata": {},
   "outputs": [
    {
     "name": "stderr",
     "output_type": "stream",
     "text": [
      "/home/sacha/miniconda3/envs/clustering-tp/lib/python3.12/site-packages/sklearn/utils/validation.py:1339: DataConversionWarning: A column-vector y was passed when a 1d array was expected. Please change the shape of y to (n_samples, ), for example using ravel().\n",
      "  y = column_or_1d(y, warn=True)\n",
      "/home/sacha/miniconda3/envs/clustering-tp/lib/python3.12/site-packages/sklearn/ensemble/_weight_boosting.py:527: FutureWarning: The SAMME.R algorithm (the default) is deprecated and will be removed in 1.6. Use the SAMME algorithm to circumvent this warning.\n",
      "  warnings.warn(\n"
     ]
    }
   ],
   "source": [
    "from sklearn.ensemble import AdaBoostClassifier\n",
    "ab = AdaBoostClassifier()\n",
    "ab.fit(X_train, y_train)\n",
    "\n",
    "y_pred_ab = ab.predict(X_test)"
   ]
  },
  {
   "cell_type": "code",
   "execution_count": 213,
   "metadata": {},
   "outputs": [
    {
     "name": "stdout",
     "output_type": "stream",
     "text": [
      "Accuracy:  0.8083155458016414 \n",
      "F1 Score:  0.7651911320615747\n"
     ]
    },
    {
     "data": {
      "image/png": "[encoded data removed]",
      "text/plain": [
       "<Figure size 640x480 with 2 Axes>"
      ]
     },
     "metadata": {},
     "output_type": "display_data"
    }
   ],
   "source": [
    "accuracy = accuracy_score(y_test, y_pred_ab)\n",
    "f_score = f1_score(y_test, y_pred_ab)\n",
    "\n",
    "print(\"Accuracy: \", accuracy, f\"\\nF1 Score: \", f_score)\n",
    "\n",
    "disp = ConfusionMatrixDisplay.from_predictions(y_test, y_pred_ab, normalize='pred')"
   ]
  },
  {
   "cell_type": "markdown",
   "metadata": {},
   "source": [
    "validation croisée"
   ]
  },
  {
   "cell_type": "code",
   "execution_count": 177,
   "metadata": {},
   "outputs": [
    {
     "name": "stderr",
     "output_type": "stream",
     "text": [
      "/home/sacha/miniconda3/envs/clustering-tp/lib/python3.12/site-packages/sklearn/utils/validation.py:1339: DataConversionWarning: A column-vector y was passed when a 1d array was expected. Please change the shape of y to (n_samples, ), for example using ravel().\n",
      "  y = column_or_1d(y, warn=True)\n",
      "/home/sacha/miniconda3/envs/clustering-tp/lib/python3.12/site-packages/sklearn/ensemble/_weight_boosting.py:527: FutureWarning: The SAMME.R algorithm (the default) is deprecated and will be removed in 1.6. Use the SAMME algorithm to circumvent this warning.\n",
      "  warnings.warn(\n",
      "/home/sacha/miniconda3/envs/clustering-tp/lib/python3.12/site-packages/sklearn/utils/validation.py:1339: DataConversionWarning: A column-vector y was passed when a 1d array was expected. Please change the shape of y to (n_samples, ), for example using ravel().\n",
      "  y = column_or_1d(y, warn=True)\n",
      "/home/sacha/miniconda3/envs/clustering-tp/lib/python3.12/site-packages/sklearn/ensemble/_weight_boosting.py:527: FutureWarning: The SAMME.R algorithm (the default) is deprecated and will be removed in 1.6. Use the SAMME algorithm to circumvent this warning.\n",
      "  warnings.warn(\n",
      "/home/sacha/miniconda3/envs/clustering-tp/lib/python3.12/site-packages/sklearn/utils/validation.py:1339: DataConversionWarning: A column-vector y was passed when a 1d array was expected. Please change the shape of y to (n_samples, ), for example using ravel().\n",
      "  y = column_or_1d(y, warn=True)\n",
      "/home/sacha/miniconda3/envs/clustering-tp/lib/python3.12/site-packages/sklearn/ensemble/_weight_boosting.py:527: FutureWarning: The SAMME.R algorithm (the default) is deprecated and will be removed in 1.6. Use the SAMME algorithm to circumvent this warning.\n",
      "  warnings.warn(\n",
      "/home/sacha/miniconda3/envs/clustering-tp/lib/python3.12/site-packages/sklearn/utils/validation.py:1339: DataConversionWarning: A column-vector y was passed when a 1d array was expected. Please change the shape of y to (n_samples, ), for example using ravel().\n",
      "  y = column_or_1d(y, warn=True)\n",
      "/home/sacha/miniconda3/envs/clustering-tp/lib/python3.12/site-packages/sklearn/ensemble/_weight_boosting.py:527: FutureWarning: The SAMME.R algorithm (the default) is deprecated and will be removed in 1.6. Use the SAMME algorithm to circumvent this warning.\n",
      "  warnings.warn(\n",
      "/home/sacha/miniconda3/envs/clustering-tp/lib/python3.12/site-packages/sklearn/utils/validation.py:1339: DataConversionWarning: A column-vector y was passed when a 1d array was expected. Please change the shape of y to (n_samples, ), for example using ravel().\n",
      "  y = column_or_1d(y, warn=True)\n",
      "/home/sacha/miniconda3/envs/clustering-tp/lib/python3.12/site-packages/sklearn/ensemble/_weight_boosting.py:527: FutureWarning: The SAMME.R algorithm (the default) is deprecated and will be removed in 1.6. Use the SAMME algorithm to circumvent this warning.\n",
      "  warnings.warn(\n"
     ]
    },
    {
     "name": "stdout",
     "output_type": "stream",
     "text": [
      "Accuracy cross validation Ada boost:  0.8091042707063284\n",
      "\n",
      "F1 Score Ada boost avec valisation croisée:  0.764783964273587\n",
      "\n",
      "F1 Score  0.7651911320615747\n"
     ]
    },
    {
     "data": {
      "image/png": "[encoded data removed]",
      "text/plain": [
       "<Figure size 640x480 with 2 Axes>"
      ]
     },
     "metadata": {},
     "output_type": "display_data"
    }
   ],
   "source": [
    "from sklearn.model_selection import cross_val_predict \n",
    "\n",
    "y_cross_pred= cross_val_predict(ab,X_train_scaled,y_train,cv=5)\n",
    "accuracy_cross_ab = accuracy_score(y_train,y_cross_pred)\n",
    "\n",
    "\n",
    "print(\"Accuracy cross validation Ada boost: \", accuracy_cross_ab)\n",
    "#on utilise pas test car le dataset est deja assez grand\n",
    "f_score_cross = f1_score(y_train, y_cross_pred)\n",
    "print(f\"\\nF1 Score Ada boost avec valisation croisée: \", f_score_cross)\n",
    "print(f\"\\nF1 Score \", f_score)\n",
    "disp = ConfusionMatrixDisplay.from_predictions(y_train, y_cross_pred, normalize='pred')"
   ]
  },
  {
   "cell_type": "markdown",
   "metadata": {},
   "source": [
    "recherche best param\n"
   ]
  },
  {
   "cell_type": "code",
   "execution_count": 178,
   "metadata": {},
   "outputs": [],
   "source": [
    "from sklearn.model_selection import GridSearchCV\n",
    "param_grid = {\n",
    "    'n_estimators': [50, 100, 200],        # Nombre d'estimateurs\n",
    "    'learning_rate': [0.01, 0.1, 1.0],    # Taux d'apprentissage\n",
    "}\n",
    "\n",
    "# GridSearchCV avec validation croisée\n",
    "ab_cv = GridSearchCV(\n",
    "    estimator=ab,\n",
    "    param_grid=param_grid,\n",
    "    scoring='accuracy',  # Métrique principale\n",
    "    cv=5,\n",
    "    verbose=1\n",
    ")\n",
    "\n",
    "# Entraînement\n",
    "#ab_cv.fit(X_train, y_train)\n"
   ]
  },
  {
   "cell_type": "code",
   "execution_count": 179,
   "metadata": {},
   "outputs": [
    {
     "data": {
      "text/plain": [
       "'# Meilleurs paramètres\\nprint(\"Meilleurs paramètres ada boost: \", ab_cv.best_params_)\\n\\n# Évaluation sur le test set\\nbest_model = ab_cv.best_estimator_\\naccuracy = accuracy_score(y_test, best_model.predict(X_test))\\nprint(\"Accuracy sur le test set : \", accuracy)'"
      ]
     },
     "execution_count": 179,
     "metadata": {},
     "output_type": "execute_result"
    }
   ],
   "source": [
    "\"\"\"# Meilleurs paramètres\n",
    "print(\"Meilleurs paramètres ada boost: \", ab_cv.best_params_)\n",
    "\n",
    "# Évaluation sur le test set\n",
    "best_model = ab_cv.best_estimator_\n",
    "accuracy = accuracy_score(y_test, best_model.predict(X_test))\n",
    "print(\"Accuracy sur le test set : \", accuracy)\"\"\"\n"
   ]
  },
  {
   "cell_type": "markdown",
   "metadata": {},
   "source": [
    "enregistrement meilleur score"
   ]
  },
  {
   "cell_type": "code",
   "execution_count": 180,
   "metadata": {},
   "outputs": [],
   "source": [
    "#joblib.dump(best_model,'AdaBoost_BestModel_08167.joblib')"
   ]
  },
  {
   "cell_type": "markdown",
   "metadata": {},
   "source": [
    "3. XGBoost"
   ]
  },
  {
   "cell_type": "code",
   "execution_count": 214,
   "metadata": {},
   "outputs": [],
   "source": [
    "from xgboost import XGBClassifier\n",
    "\n",
    "xgb = XGBClassifier()\n",
    "xgb.fit(X_train_scaled, y_train)\n",
    "\n",
    "y_pred_xgb = xgb.predict(X_test)"
   ]
  },
  {
   "cell_type": "code",
   "execution_count": 216,
   "metadata": {},
   "outputs": [
    {
     "name": "stdout",
     "output_type": "stream",
     "text": [
      "Accuracy:  0.8250909418873824 \n",
      "F1 Score:  0.7868083547086845\n"
     ]
    },
    {
     "data": {
      "image/png": "[encoded data removed]",
      "text/plain": [
       "<Figure size 640x480 with 2 Axes>"
      ]
     },
     "metadata": {},
     "output_type": "display_data"
    }
   ],
   "source": [
    "accuracy = accuracy_score(y_test, y_pred_xgb)\n",
    "f_score = f1_score(y_test, y_pred_xgb)\n",
    "\n",
    "print(\"Accuracy: \", accuracy, f\"\\nF1 Score: \", f_score)\n",
    "\n",
    "disp = ConfusionMatrixDisplay.from_predictions(y_test, y_pred_xgb, normalize='pred')"
   ]
  },
  {
   "cell_type": "markdown",
   "metadata": {},
   "source": [
    "validation croisée "
   ]
  },
  {
   "cell_type": "code",
   "execution_count": 183,
   "metadata": {},
   "outputs": [
    {
     "name": "stdout",
     "output_type": "stream",
     "text": [
      "Accuracy:  0.8239857698795784\n",
      "\n",
      "F1 Score:  0.7846186860687315\n"
     ]
    },
    {
     "data": {
      "image/png": "[encoded data removed]",
      "text/plain": [
       "<Figure size 640x480 with 2 Axes>"
      ]
     },
     "metadata": {},
     "output_type": "display_data"
    }
   ],
   "source": [
    "from sklearn.model_selection import cross_val_predict \n",
    "\n",
    "xgb_y_cross_pred= cross_val_predict(xgb,X_train_scaled,y_train,cv=5)\n",
    "xgb_accuracy_cross = accuracy_score(y_train,xgb_y_cross_pred)\n",
    "\n",
    "\n",
    "print(\"Accuracy: \", xgb_accuracy_cross)\n",
    "f_score_cross = f1_score(y_train, xgb_y_cross_pred)\n",
    "print(f\"\\nF1 Score: \", f_score_cross)\n",
    "\n",
    "disp = ConfusionMatrixDisplay.from_predictions(y_train, xgb_y_cross_pred, normalize='pred')"
   ]
  },
  {
   "cell_type": "markdown",
   "metadata": {},
   "source": [
    "3.2.2 Meilleur model\n"
   ]
  },
  {
   "cell_type": "code",
   "execution_count": 184,
   "metadata": {},
   "outputs": [
    {
     "data": {
      "text/plain": [
       "{'objective': 'binary:logistic',\n",
       " 'base_score': None,\n",
       " 'booster': None,\n",
       " 'callbacks': None,\n",
       " 'colsample_bylevel': None,\n",
       " 'colsample_bynode': None,\n",
       " 'colsample_bytree': None,\n",
       " 'device': None,\n",
       " 'early_stopping_rounds': None,\n",
       " 'enable_categorical': False,\n",
       " 'eval_metric': None,\n",
       " 'feature_types': None,\n",
       " 'gamma': None,\n",
       " 'grow_policy': None,\n",
       " 'importance_type': None,\n",
       " 'interaction_constraints': None,\n",
       " 'learning_rate': None,\n",
       " 'max_bin': None,\n",
       " 'max_cat_threshold': None,\n",
       " 'max_cat_to_onehot': None,\n",
       " 'max_delta_step': None,\n",
       " 'max_depth': None,\n",
       " 'max_leaves': None,\n",
       " 'min_child_weight': None,\n",
       " 'missing': nan,\n",
       " 'monotone_constraints': None,\n",
       " 'multi_strategy': None,\n",
       " 'n_estimators': None,\n",
       " 'n_jobs': None,\n",
       " 'num_parallel_tree': None,\n",
       " 'random_state': None,\n",
       " 'reg_alpha': None,\n",
       " 'reg_lambda': None,\n",
       " 'sampling_method': None,\n",
       " 'scale_pos_weight': None,\n",
       " 'subsample': None,\n",
       " 'tree_method': None,\n",
       " 'validate_parameters': None,\n",
       " 'verbosity': None}"
      ]
     },
     "execution_count": 184,
     "metadata": {},
     "output_type": "execute_result"
    }
   ],
   "source": [
    "#On display les params pour trouver ceux qui seront interessants à changer\n",
    "xgb.get_params()"
   ]
  },
  {
   "cell_type": "code",
   "execution_count": 185,
   "metadata": {},
   "outputs": [],
   "source": [
    "from sklearn.model_selection import GridSearchCV\n",
    "# Définition de la grille de paramètres\n",
    "param_grid = {\n",
    "    'n_estimators': [100, 200, 300],  # Nombre d'arbres\n",
    "    'max_depth': [3, 5, 7],           # Profondeur maximum des arbres\n",
    "    'learning_rate': [0.01, 0.1, 0.2], # Taux d'apprentissage\n",
    "    'subsample': [0.8, 1.0],          # Fraction des échantillons utilisée par arbre\n",
    "    \n",
    "}\n",
    "\n",
    "\n",
    "# GridSearch avec validation croisée\n",
    "xgb_cv = GridSearchCV(estimator=xgb, \n",
    "                           param_grid=param_grid, \n",
    "                           scoring='accuracy', \n",
    "                           cv=5, \n",
    "                           verbose=1)\n",
    "\n",
    "# Exécution de la recherche\n",
    "#xgb_cv.fit(X_train_scaled, y_train)"
   ]
  },
  {
   "cell_type": "code",
   "execution_count": 186,
   "metadata": {},
   "outputs": [
    {
     "data": {
      "text/plain": [
       "'# Affichage des meilleurs paramètres\\nprint(\"Meilleurs paramètres : \", xgb_cv.best_params_)\\n\\n# Évaluation du meilleur modèle sur les données de test\\nbest_model = xgb_cv.best_estimator_\\naccuracy = accuracy_score(y_test, best_model.predict(X_test))\\nprint(\"Accuracy sur le test set : \", accuracy)'"
      ]
     },
     "execution_count": 186,
     "metadata": {},
     "output_type": "execute_result"
    }
   ],
   "source": [
    "\"\"\"# Affichage des meilleurs paramètres\n",
    "print(\"Meilleurs paramètres : \", xgb_cv.best_params_)\n",
    "\n",
    "# Évaluation du meilleur modèle sur les données de test\n",
    "best_model = xgb_cv.best_estimator_\n",
    "accuracy = accuracy_score(y_test, best_model.predict(X_test))\n",
    "print(\"Accuracy sur le test set : \", accuracy)\"\"\""
   ]
  },
  {
   "cell_type": "code",
   "execution_count": 187,
   "metadata": {},
   "outputs": [],
   "source": [
    "#joblib.dump(best_model,'XGB_BestModel_08252.joblib')"
   ]
  },
  {
   "cell_type": "markdown",
   "metadata": {},
   "source": [
    "3.5 Inférence sur d'autres jeux de données"
   ]
  },
  {
   "cell_type": "code",
   "execution_count": 188,
   "metadata": {},
   "outputs": [],
   "source": [
    "df_attributes_co = pd.read_csv('db_co/acsincome_co_features.csv')\n",
    "df_labels_co = pd.read_csv('db_co/acsincome_co_label.csv')\n",
    "\n",
    "df_attributes_ne = pd.read_csv('db_ne/acsincome_ne_features.csv')\n",
    "df_labels_ne = pd.read_csv('db_ne/acsincome_ne_labelTP2.csv')\n"
   ]
  },
  {
   "cell_type": "code",
   "execution_count": 189,
   "metadata": {},
   "outputs": [
    {
     "data": {
      "text/html": [
       "<div>\n",
       "<style scoped>\n",
       "    .dataframe tbody tr th:only-of-type {\n",
       "        vertical-align: middle;\n",
       "    }\n",
       "\n",
       "    .dataframe tbody tr th {\n",
       "        vertical-align: top;\n",
       "    }\n",
       "\n",
       "    .dataframe thead th {\n",
       "        text-align: right;\n",
       "    }\n",
       "</style>\n",
       "<table border=\"1\" class=\"dataframe\">\n",
       "  <thead>\n",
       "    <tr style=\"text-align: right;\">\n",
       "      <th></th>\n",
       "      <th>AGEP</th>\n",
       "      <th>COW</th>\n",
       "      <th>SCHL</th>\n",
       "      <th>MAR</th>\n",
       "      <th>OCCP</th>\n",
       "      <th>POBP</th>\n",
       "      <th>RELP</th>\n",
       "      <th>WKHP</th>\n",
       "      <th>SEX</th>\n",
       "      <th>RAC1P</th>\n",
       "    </tr>\n",
       "  </thead>\n",
       "  <tbody>\n",
       "    <tr>\n",
       "      <th>0</th>\n",
       "      <td>19.0</td>\n",
       "      <td>2.0</td>\n",
       "      <td>19.0</td>\n",
       "      <td>5.0</td>\n",
       "      <td>2850.0</td>\n",
       "      <td>6.0</td>\n",
       "      <td>17.0</td>\n",
       "      <td>2.0</td>\n",
       "      <td>2.0</td>\n",
       "      <td>9.0</td>\n",
       "    </tr>\n",
       "    <tr>\n",
       "      <th>1</th>\n",
       "      <td>24.0</td>\n",
       "      <td>5.0</td>\n",
       "      <td>18.0</td>\n",
       "      <td>5.0</td>\n",
       "      <td>9645.0</td>\n",
       "      <td>13.0</td>\n",
       "      <td>17.0</td>\n",
       "      <td>40.0</td>\n",
       "      <td>1.0</td>\n",
       "      <td>2.0</td>\n",
       "    </tr>\n",
       "    <tr>\n",
       "      <th>2</th>\n",
       "      <td>22.0</td>\n",
       "      <td>1.0</td>\n",
       "      <td>19.0</td>\n",
       "      <td>5.0</td>\n",
       "      <td>1520.0</td>\n",
       "      <td>53.0</td>\n",
       "      <td>17.0</td>\n",
       "      <td>45.0</td>\n",
       "      <td>2.0</td>\n",
       "      <td>1.0</td>\n",
       "    </tr>\n",
       "    <tr>\n",
       "      <th>3</th>\n",
       "      <td>32.0</td>\n",
       "      <td>1.0</td>\n",
       "      <td>16.0</td>\n",
       "      <td>1.0</td>\n",
       "      <td>4055.0</td>\n",
       "      <td>8.0</td>\n",
       "      <td>16.0</td>\n",
       "      <td>40.0</td>\n",
       "      <td>2.0</td>\n",
       "      <td>1.0</td>\n",
       "    </tr>\n",
       "    <tr>\n",
       "      <th>4</th>\n",
       "      <td>19.0</td>\n",
       "      <td>2.0</td>\n",
       "      <td>19.0</td>\n",
       "      <td>5.0</td>\n",
       "      <td>2006.0</td>\n",
       "      <td>34.0</td>\n",
       "      <td>17.0</td>\n",
       "      <td>9.0</td>\n",
       "      <td>2.0</td>\n",
       "      <td>1.0</td>\n",
       "    </tr>\n",
       "    <tr>\n",
       "      <th>...</th>\n",
       "      <td>...</td>\n",
       "      <td>...</td>\n",
       "      <td>...</td>\n",
       "      <td>...</td>\n",
       "      <td>...</td>\n",
       "      <td>...</td>\n",
       "      <td>...</td>\n",
       "      <td>...</td>\n",
       "      <td>...</td>\n",
       "      <td>...</td>\n",
       "    </tr>\n",
       "    <tr>\n",
       "      <th>31301</th>\n",
       "      <td>52.0</td>\n",
       "      <td>1.0</td>\n",
       "      <td>21.0</td>\n",
       "      <td>1.0</td>\n",
       "      <td>5000.0</td>\n",
       "      <td>35.0</td>\n",
       "      <td>0.0</td>\n",
       "      <td>40.0</td>\n",
       "      <td>2.0</td>\n",
       "      <td>1.0</td>\n",
       "    </tr>\n",
       "    <tr>\n",
       "      <th>31302</th>\n",
       "      <td>54.0</td>\n",
       "      <td>1.0</td>\n",
       "      <td>19.0</td>\n",
       "      <td>1.0</td>\n",
       "      <td>910.0</td>\n",
       "      <td>35.0</td>\n",
       "      <td>1.0</td>\n",
       "      <td>40.0</td>\n",
       "      <td>1.0</td>\n",
       "      <td>1.0</td>\n",
       "    </tr>\n",
       "    <tr>\n",
       "      <th>31303</th>\n",
       "      <td>39.0</td>\n",
       "      <td>1.0</td>\n",
       "      <td>22.0</td>\n",
       "      <td>1.0</td>\n",
       "      <td>1021.0</td>\n",
       "      <td>207.0</td>\n",
       "      <td>0.0</td>\n",
       "      <td>40.0</td>\n",
       "      <td>1.0</td>\n",
       "      <td>6.0</td>\n",
       "    </tr>\n",
       "    <tr>\n",
       "      <th>31304</th>\n",
       "      <td>39.0</td>\n",
       "      <td>1.0</td>\n",
       "      <td>24.0</td>\n",
       "      <td>1.0</td>\n",
       "      <td>2205.0</td>\n",
       "      <td>207.0</td>\n",
       "      <td>1.0</td>\n",
       "      <td>40.0</td>\n",
       "      <td>2.0</td>\n",
       "      <td>6.0</td>\n",
       "    </tr>\n",
       "    <tr>\n",
       "      <th>31305</th>\n",
       "      <td>55.0</td>\n",
       "      <td>3.0</td>\n",
       "      <td>20.0</td>\n",
       "      <td>3.0</td>\n",
       "      <td>3820.0</td>\n",
       "      <td>38.0</td>\n",
       "      <td>0.0</td>\n",
       "      <td>40.0</td>\n",
       "      <td>1.0</td>\n",
       "      <td>1.0</td>\n",
       "    </tr>\n",
       "  </tbody>\n",
       "</table>\n",
       "<p>31306 rows × 10 columns</p>\n",
       "</div>"
      ],
      "text/plain": [
       "       AGEP  COW  SCHL  MAR    OCCP   POBP  RELP  WKHP  SEX  RAC1P\n",
       "0      19.0  2.0  19.0  5.0  2850.0    6.0  17.0   2.0  2.0    9.0\n",
       "1      24.0  5.0  18.0  5.0  9645.0   13.0  17.0  40.0  1.0    2.0\n",
       "2      22.0  1.0  19.0  5.0  1520.0   53.0  17.0  45.0  2.0    1.0\n",
       "3      32.0  1.0  16.0  1.0  4055.0    8.0  16.0  40.0  2.0    1.0\n",
       "4      19.0  2.0  19.0  5.0  2006.0   34.0  17.0   9.0  2.0    1.0\n",
       "...     ...  ...   ...  ...     ...    ...   ...   ...  ...    ...\n",
       "31301  52.0  1.0  21.0  1.0  5000.0   35.0   0.0  40.0  2.0    1.0\n",
       "31302  54.0  1.0  19.0  1.0   910.0   35.0   1.0  40.0  1.0    1.0\n",
       "31303  39.0  1.0  22.0  1.0  1021.0  207.0   0.0  40.0  1.0    6.0\n",
       "31304  39.0  1.0  24.0  1.0  2205.0  207.0   1.0  40.0  2.0    6.0\n",
       "31305  55.0  3.0  20.0  3.0  3820.0   38.0   0.0  40.0  1.0    1.0\n",
       "\n",
       "[31306 rows x 10 columns]"
      ]
     },
     "execution_count": 189,
     "metadata": {},
     "output_type": "execute_result"
    }
   ],
   "source": [
    "df_attributes_co\n"
   ]
  },
  {
   "cell_type": "code",
   "execution_count": 190,
   "metadata": {},
   "outputs": [
    {
     "data": {
      "text/html": [
       "<div>\n",
       "<style scoped>\n",
       "    .dataframe tbody tr th:only-of-type {\n",
       "        vertical-align: middle;\n",
       "    }\n",
       "\n",
       "    .dataframe tbody tr th {\n",
       "        vertical-align: top;\n",
       "    }\n",
       "\n",
       "    .dataframe thead th {\n",
       "        text-align: right;\n",
       "    }\n",
       "</style>\n",
       "<table border=\"1\" class=\"dataframe\">\n",
       "  <thead>\n",
       "    <tr style=\"text-align: right;\">\n",
       "      <th></th>\n",
       "      <th>AGEP</th>\n",
       "      <th>COW</th>\n",
       "      <th>SCHL</th>\n",
       "      <th>MAR</th>\n",
       "      <th>OCCP</th>\n",
       "      <th>POBP</th>\n",
       "      <th>RELP</th>\n",
       "      <th>WKHP</th>\n",
       "      <th>SEX</th>\n",
       "      <th>RAC1P</th>\n",
       "    </tr>\n",
       "  </thead>\n",
       "  <tbody>\n",
       "    <tr>\n",
       "      <th>0</th>\n",
       "      <td>19.0</td>\n",
       "      <td>1.0</td>\n",
       "      <td>19.0</td>\n",
       "      <td>5.0</td>\n",
       "      <td>3960.0</td>\n",
       "      <td>31.0</td>\n",
       "      <td>17.0</td>\n",
       "      <td>20.0</td>\n",
       "      <td>2.0</td>\n",
       "      <td>1.0</td>\n",
       "    </tr>\n",
       "    <tr>\n",
       "      <th>1</th>\n",
       "      <td>22.0</td>\n",
       "      <td>4.0</td>\n",
       "      <td>19.0</td>\n",
       "      <td>5.0</td>\n",
       "      <td>4622.0</td>\n",
       "      <td>46.0</td>\n",
       "      <td>17.0</td>\n",
       "      <td>30.0</td>\n",
       "      <td>1.0</td>\n",
       "      <td>1.0</td>\n",
       "    </tr>\n",
       "    <tr>\n",
       "      <th>2</th>\n",
       "      <td>19.0</td>\n",
       "      <td>1.0</td>\n",
       "      <td>19.0</td>\n",
       "      <td>5.0</td>\n",
       "      <td>6260.0</td>\n",
       "      <td>31.0</td>\n",
       "      <td>17.0</td>\n",
       "      <td>40.0</td>\n",
       "      <td>1.0</td>\n",
       "      <td>1.0</td>\n",
       "    </tr>\n",
       "    <tr>\n",
       "      <th>3</th>\n",
       "      <td>50.0</td>\n",
       "      <td>1.0</td>\n",
       "      <td>20.0</td>\n",
       "      <td>4.0</td>\n",
       "      <td>9620.0</td>\n",
       "      <td>31.0</td>\n",
       "      <td>17.0</td>\n",
       "      <td>10.0</td>\n",
       "      <td>1.0</td>\n",
       "      <td>1.0</td>\n",
       "    </tr>\n",
       "    <tr>\n",
       "      <th>4</th>\n",
       "      <td>18.0</td>\n",
       "      <td>1.0</td>\n",
       "      <td>18.0</td>\n",
       "      <td>5.0</td>\n",
       "      <td>3960.0</td>\n",
       "      <td>31.0</td>\n",
       "      <td>17.0</td>\n",
       "      <td>20.0</td>\n",
       "      <td>1.0</td>\n",
       "      <td>1.0</td>\n",
       "    </tr>\n",
       "    <tr>\n",
       "      <th>...</th>\n",
       "      <td>...</td>\n",
       "      <td>...</td>\n",
       "      <td>...</td>\n",
       "      <td>...</td>\n",
       "      <td>...</td>\n",
       "      <td>...</td>\n",
       "      <td>...</td>\n",
       "      <td>...</td>\n",
       "      <td>...</td>\n",
       "      <td>...</td>\n",
       "    </tr>\n",
       "    <tr>\n",
       "      <th>10780</th>\n",
       "      <td>59.0</td>\n",
       "      <td>1.0</td>\n",
       "      <td>20.0</td>\n",
       "      <td>5.0</td>\n",
       "      <td>1430.0</td>\n",
       "      <td>20.0</td>\n",
       "      <td>0.0</td>\n",
       "      <td>50.0</td>\n",
       "      <td>1.0</td>\n",
       "      <td>1.0</td>\n",
       "    </tr>\n",
       "    <tr>\n",
       "      <th>10781</th>\n",
       "      <td>59.0</td>\n",
       "      <td>3.0</td>\n",
       "      <td>22.0</td>\n",
       "      <td>3.0</td>\n",
       "      <td>1360.0</td>\n",
       "      <td>8.0</td>\n",
       "      <td>0.0</td>\n",
       "      <td>45.0</td>\n",
       "      <td>2.0</td>\n",
       "      <td>1.0</td>\n",
       "    </tr>\n",
       "    <tr>\n",
       "      <th>10782</th>\n",
       "      <td>62.0</td>\n",
       "      <td>1.0</td>\n",
       "      <td>19.0</td>\n",
       "      <td>3.0</td>\n",
       "      <td>20.0</td>\n",
       "      <td>19.0</td>\n",
       "      <td>0.0</td>\n",
       "      <td>50.0</td>\n",
       "      <td>2.0</td>\n",
       "      <td>1.0</td>\n",
       "    </tr>\n",
       "    <tr>\n",
       "      <th>10783</th>\n",
       "      <td>47.0</td>\n",
       "      <td>1.0</td>\n",
       "      <td>16.0</td>\n",
       "      <td>5.0</td>\n",
       "      <td>6050.0</td>\n",
       "      <td>31.0</td>\n",
       "      <td>0.0</td>\n",
       "      <td>65.0</td>\n",
       "      <td>1.0</td>\n",
       "      <td>1.0</td>\n",
       "    </tr>\n",
       "    <tr>\n",
       "      <th>10784</th>\n",
       "      <td>64.0</td>\n",
       "      <td>3.0</td>\n",
       "      <td>18.0</td>\n",
       "      <td>1.0</td>\n",
       "      <td>5110.0</td>\n",
       "      <td>31.0</td>\n",
       "      <td>0.0</td>\n",
       "      <td>40.0</td>\n",
       "      <td>2.0</td>\n",
       "      <td>1.0</td>\n",
       "    </tr>\n",
       "  </tbody>\n",
       "</table>\n",
       "<p>10785 rows × 10 columns</p>\n",
       "</div>"
      ],
      "text/plain": [
       "       AGEP  COW  SCHL  MAR    OCCP  POBP  RELP  WKHP  SEX  RAC1P\n",
       "0      19.0  1.0  19.0  5.0  3960.0  31.0  17.0  20.0  2.0    1.0\n",
       "1      22.0  4.0  19.0  5.0  4622.0  46.0  17.0  30.0  1.0    1.0\n",
       "2      19.0  1.0  19.0  5.0  6260.0  31.0  17.0  40.0  1.0    1.0\n",
       "3      50.0  1.0  20.0  4.0  9620.0  31.0  17.0  10.0  1.0    1.0\n",
       "4      18.0  1.0  18.0  5.0  3960.0  31.0  17.0  20.0  1.0    1.0\n",
       "...     ...  ...   ...  ...     ...   ...   ...   ...  ...    ...\n",
       "10780  59.0  1.0  20.0  5.0  1430.0  20.0   0.0  50.0  1.0    1.0\n",
       "10781  59.0  3.0  22.0  3.0  1360.0   8.0   0.0  45.0  2.0    1.0\n",
       "10782  62.0  1.0  19.0  3.0    20.0  19.0   0.0  50.0  2.0    1.0\n",
       "10783  47.0  1.0  16.0  5.0  6050.0  31.0   0.0  65.0  1.0    1.0\n",
       "10784  64.0  3.0  18.0  1.0  5110.0  31.0   0.0  40.0  2.0    1.0\n",
       "\n",
       "[10785 rows x 10 columns]"
      ]
     },
     "execution_count": 190,
     "metadata": {},
     "output_type": "execute_result"
    }
   ],
   "source": [
    "df_attributes_ne \n"
   ]
  },
  {
   "cell_type": "markdown",
   "metadata": {},
   "source": [
    "On réutilise le scaler précédent pour fit les nouveaux jeux de données, et on va prédire avec nos modeles entrainés"
   ]
  },
  {
   "cell_type": "code",
   "execution_count": 191,
   "metadata": {},
   "outputs": [],
   "source": [
    "X_ne_scaled = scaler.fit_transform(df_attributes_ne)\n",
    "X_co_scaled = scaler.fit_transform(df_attributes_co)"
   ]
  },
  {
   "cell_type": "code",
   "execution_count": 192,
   "metadata": {},
   "outputs": [
    {
     "name": "stderr",
     "output_type": "stream",
     "text": [
      "/home/sacha/miniconda3/envs/clustering-tp/lib/python3.12/site-packages/sklearn/base.py:493: UserWarning: X does not have valid feature names, but RandomForestClassifier was fitted with feature names\n",
      "  warnings.warn(\n",
      "/home/sacha/miniconda3/envs/clustering-tp/lib/python3.12/site-packages/sklearn/base.py:493: UserWarning: X does not have valid feature names, but RandomForestClassifier was fitted with feature names\n",
      "  warnings.warn(\n"
     ]
    }
   ],
   "source": [
    "y_ne_rf = rf.predict(X_ne_scaled)\n",
    "y_co_rf = rf.predict(X_co_scaled)"
   ]
  },
  {
   "cell_type": "code",
   "execution_count": 193,
   "metadata": {},
   "outputs": [
    {
     "name": "stdout",
     "output_type": "stream",
     "text": [
      "Nevada Accuracy: 0.6545201668984701\n",
      "Nevada Confusion Matrix:\n",
      " [[4843 2574]\n",
      " [1152 2216]]\n",
      "Nevada Accuracy: 0.6762920845844247\n",
      "Nevada Confusion Matrix:\n",
      " [[12318  6016]\n",
      " [ 4118  8854]]\n"
     ]
    }
   ],
   "source": [
    "from sklearn.metrics import accuracy_score, confusion_matrix, classification_report\n",
    "\n",
    "# Évaluer les prédictions pour le Nevada\n",
    "accuracy_nevada = accuracy_score(df_labels_ne, y_ne_rf)\n",
    "conf_matrix_nevada = confusion_matrix(df_labels_ne, y_ne_rf)\n",
    "print(\"Nevada Accuracy:\", accuracy_nevada)\n",
    "print(\"Nevada Confusion Matrix:\\n\", conf_matrix_nevada)\n",
    "\n",
    "\n",
    "\n",
    "# Évaluer les prédictions pour le Colorado\n",
    "accuracy_co = accuracy_score(df_labels_co, y_co_rf)\n",
    "conf_matrix_co = confusion_matrix(df_labels_co, y_co_rf)\n",
    "print(\"Nevada Accuracy:\", accuracy_co)\n",
    "print(\"Nevada Confusion Matrix:\\n\", conf_matrix_co)\n"
   ]
  },
  {
   "cell_type": "code",
   "execution_count": 194,
   "metadata": {},
   "outputs": [
    {
     "data": {
      "image/png": "[encoded data removed]",
      "text/plain": [
       "<Figure size 640x480 with 2 Axes>"
      ]
     },
     "metadata": {},
     "output_type": "display_data"
    }
   ],
   "source": [
    "from sklearn.metrics import ConfusionMatrixDisplay\n",
    "\n",
    "disp = ConfusionMatrixDisplay.from_predictions(df_labels_ne, y_ne_rf, normalize='pred')"
   ]
  },
  {
   "cell_type": "markdown",
   "metadata": {},
   "source": [
    "pas ouf ouf ce random forest"
   ]
  },
  {
   "cell_type": "code",
   "execution_count": 195,
   "metadata": {},
   "outputs": [
    {
     "data": {
      "image/png": "[encoded data removed]",
      "text/plain": [
       "<Figure size 640x480 with 2 Axes>"
      ]
     },
     "metadata": {},
     "output_type": "display_data"
    }
   ],
   "source": [
    "from sklearn.metrics import ConfusionMatrixDisplay\n",
    "\n",
    "disp = ConfusionMatrixDisplay.from_predictions(df_labels_co, y_co_rf, normalize='pred')"
   ]
  },
  {
   "cell_type": "code",
   "execution_count": 196,
   "metadata": {},
   "outputs": [
    {
     "name": "stderr",
     "output_type": "stream",
     "text": [
      "/home/sacha/miniconda3/envs/clustering-tp/lib/python3.12/site-packages/sklearn/base.py:493: UserWarning: X does not have valid feature names, but AdaBoostClassifier was fitted with feature names\n",
      "  warnings.warn(\n",
      "/home/sacha/miniconda3/envs/clustering-tp/lib/python3.12/site-packages/sklearn/base.py:493: UserWarning: X does not have valid feature names, but AdaBoostClassifier was fitted with feature names\n",
      "  warnings.warn(\n"
     ]
    },
    {
     "data": {
      "image/png": "[encoded data removed]",
      "text/plain": [
       "<Figure size 640x480 with 2 Axes>"
      ]
     },
     "metadata": {},
     "output_type": "display_data"
    },
    {
     "data": {
      "image/png": "[encoded data removed]",
      "text/plain": [
       "<Figure size 640x480 with 2 Axes>"
      ]
     },
     "metadata": {},
     "output_type": "display_data"
    }
   ],
   "source": [
    "y_ne_rf = ab.predict(X_ne_scaled)\n",
    "y_co_rf = ab.predict(X_co_scaled)\n",
    "\n",
    "from sklearn.metrics import accuracy_score, confusion_matrix, ConfusionMatrixDisplay\n",
    "\n",
    "# Évaluer les prédictions pour le Nevada\n",
    "accuracy_nevada = accuracy_score(df_labels_ne, y_ne_rf)\n",
    "conf_matrix_nevada = confusion_matrix(df_labels_ne, y_ne_rf)\n",
    "\n",
    "accuracy_nevada\n",
    "conf_matrix_nevada\n",
    "\n",
    "# Évaluer les prédictions pour le Colorado\n",
    "accuracy_co = accuracy_score(df_labels_co, y_co_rf)\n",
    "conf_matrix_co = confusion_matrix(df_labels_co, y_co_rf)\n",
    "\n",
    "accuracy_co\n",
    "conf_matrix_co\n",
    "\n",
    "\n",
    "disp1 = ConfusionMatrixDisplay.from_predictions(df_labels_ne, y_ne_rf, normalize='pred')\n",
    "disp2 = ConfusionMatrixDisplay.from_predictions(df_labels_co, y_co_rf, normalize='pred')\n"
   ]
  },
  {
   "cell_type": "code",
   "execution_count": 197,
   "metadata": {},
   "outputs": [
    {
     "data": {
      "image/png": "[encoded data removed]",
      "text/plain": [
       "<Figure size 640x480 with 2 Axes>"
      ]
     },
     "metadata": {},
     "output_type": "display_data"
    },
    {
     "data": {
      "image/png": "[encoded data removed]",
      "text/plain": [
       "<Figure size 640x480 with 2 Axes>"
      ]
     },
     "metadata": {},
     "output_type": "display_data"
    }
   ],
   "source": [
    "y_ne_rf = xgb.predict(X_ne_scaled)\n",
    "y_co_rf = xgb.predict(X_co_scaled)\n",
    "\n",
    "from sklearn.metrics import accuracy_score, confusion_matrix, ConfusionMatrixDisplay\n",
    "\n",
    "# Évaluer les prédictions pour le Nevada\n",
    "accuracy_nevada = accuracy_score(df_labels_ne, y_ne_rf)\n",
    "conf_matrix_nevada = confusion_matrix(df_labels_ne, y_ne_rf)\n",
    "\n",
    "accuracy_nevada\n",
    "conf_matrix_nevada\n",
    "\n",
    "# Évaluer les prédictions pour le Colorado\n",
    "accuracy_co = accuracy_score(df_labels_co, y_co_rf)\n",
    "conf_matrix_co = confusion_matrix(df_labels_co, y_co_rf)\n",
    "\n",
    "accuracy_co\n",
    "conf_matrix_co\n",
    "\n",
    "\n",
    "disp1 = ConfusionMatrixDisplay.from_predictions(df_labels_ne, y_ne_rf, normalize='pred')\n",
    "disp2 = ConfusionMatrixDisplay.from_predictions(df_labels_co, y_co_rf, normalize='pred')\n"
   ]
  },
  {
   "cell_type": "markdown",
   "metadata": {},
   "source": [
    "#### 4. Interprétabilité et Equité"
   ]
  },
  {
   "cell_type": "code",
   "execution_count": 209,
   "metadata": {},
   "outputs": [],
   "source": [
    "from sklearn.feature_selection import r_regression\n",
    "from matplotlib.colors import Normalize\n",
    "\n",
    "def correlation(feature, label, title):\n",
    "    corr=r_regression(feature,label)\n",
    "    norm= Normalize(min(corr),max(corr))\n",
    "    cmap=plt.cm.cividis\n",
    "    colors = cmap(norm(corr))\n",
    "    \n",
    "    plt.barh(feature.columns, corr, color=colors)\n",
    "    plt.axvline(0,color='pink')\n",
    "    plt.ylabel(\"features\")\n",
    "    plt.xlabel(\"Labels\")\n",
    "    plt.title(title)\n"
   ]
  },
  {
   "cell_type": "code",
   "execution_count": 210,
   "metadata": {},
   "outputs": [
    {
     "name": "stderr",
     "output_type": "stream",
     "text": [
      "/home/sacha/miniconda3/envs/clustering-tp/lib/python3.12/site-packages/sklearn/utils/validation.py:1339: DataConversionWarning: A column-vector y was passed when a 1d array was expected. Please change the shape of y to (n_samples, ), for example using ravel().\n",
      "  y = column_or_1d(y, warn=True)\n"
     ]
    },
    {
     "data": {
      "image/png": "[encoded data removed]",
      "text/plain": [
       "<Figure size 640x480 with 1 Axes>"
      ]
     },
     "metadata": {},
     "output_type": "display_data"
    }
   ],
   "source": [
    "correlation(df_attributes,df_labels,\"Corrélations initiales\")"
   ]
  },
  {
   "cell_type": "markdown",
   "metadata": {},
   "source": []
  },
  {
   "cell_type": "code",
   "execution_count": 211,
   "metadata": {},
   "outputs": [
    {
     "data": {
      "image/png": "[encoded data removed]",
      "text/plain": [
       "<Figure size 640x480 with 1 Axes>"
      ]
     },
     "metadata": {},
     "output_type": "display_data"
    }
   ],
   "source": [
    "correlation(X_test_scaled,y_pred_rf,\"Random Forest\")"
   ]
  },
  {
   "cell_type": "code",
   "execution_count": null,
   "metadata": {},
   "outputs": [
    {
     "name": "stdout",
     "output_type": "stream",
     "text": [
      "  feature  importance\n",
      "4    OCCP    0.259094\n",
      "0    AGEP    0.172103\n",
      "7    WKHP    0.139889\n",
      "2    SCHL    0.131369\n",
      "5    POBP    0.086413\n",
      "6    RELP    0.080016\n",
      "1     COW    0.043537\n",
      "3     MAR    0.033615\n",
      "9   RAC1P    0.032818\n",
      "8     SEX    0.021148\n"
     ]
    }
   ],
   "source": [
    "#  RandomForest \n",
    "importances = rf.feature_importances_\n",
    "\n",
    "\n",
    "feature_importance_df = pd.DataFrame({\n",
    "    'feature': X_train_scaled.columns,  \n",
    "    'importance': importances\n",
    "})\n",
    "\n",
    "#trier ordre croissant\n",
    "feature_importance_df = feature_importance_df.sort_values(by='importance', ascending=False)\n",
    "print(feature_importance_df)\n"
   ]
  },
  {
   "cell_type": "code",
   "execution_count": 218,
   "metadata": {},
   "outputs": [
    {
     "data": {
      "image/png": "[encoded data removed]",
      "text/plain": [
       "<Figure size 640x480 with 1 Axes>"
      ]
     },
     "metadata": {},
     "output_type": "display_data"
    }
   ],
   "source": [
    "correlation(X_test_scaled,y_pred_ab,\"AdaBoost\")"
   ]
  },
  {
   "cell_type": "code",
   "execution_count": 220,
   "metadata": {},
   "outputs": [
    {
     "name": "stdout",
     "output_type": "stream",
     "text": [
      "  feature  importance\n",
      "4    OCCP        0.40\n",
      "0    AGEP        0.14\n",
      "7    WKHP        0.14\n",
      "2    SCHL        0.08\n",
      "6    RELP        0.08\n",
      "1     COW        0.06\n",
      "5    POBP        0.04\n",
      "3     MAR        0.02\n",
      "8     SEX        0.02\n",
      "9   RAC1P        0.02\n"
     ]
    }
   ],
   "source": [
    "#  adaboost\n",
    "importances = ab.feature_importances_\n",
    "\n",
    "\n",
    "feature_importance_df = pd.DataFrame({\n",
    "    'feature': X_train_scaled.columns,  \n",
    "    'importance': importances\n",
    "})\n",
    "\n",
    "#trier ordre croissant\n",
    "feature_importance_df = feature_importance_df.sort_values(by='importance', ascending=False)\n",
    "print(feature_importance_df)\n"
   ]
  },
  {
   "cell_type": "code",
   "execution_count": 217,
   "metadata": {},
   "outputs": [
    {
     "data": {
      "image/png": "[encoded data removed]",
      "text/plain": [
       "<Figure size 640x480 with 1 Axes>"
      ]
     },
     "metadata": {},
     "output_type": "display_data"
    }
   ],
   "source": [
    "correlation(X_test_scaled,y_pred_xgb,\"XGB\")"
   ]
  },
  {
   "cell_type": "code",
   "execution_count": 221,
   "metadata": {},
   "outputs": [
    {
     "name": "stdout",
     "output_type": "stream",
     "text": [
      "  feature  importance\n",
      "7    WKHP    0.179109\n",
      "6    RELP    0.168179\n",
      "4    OCCP    0.162301\n",
      "2    SCHL    0.153532\n",
      "8     SEX    0.125415\n",
      "0    AGEP    0.074258\n",
      "1     COW    0.043802\n",
      "3     MAR    0.038356\n",
      "5    POBP    0.034011\n",
      "9   RAC1P    0.021038\n"
     ]
    }
   ],
   "source": [
    "#  XGB\n",
    "importances = xgb.feature_importances_\n",
    "\n",
    "\n",
    "feature_importance_df = pd.DataFrame({\n",
    "    'feature': X_train_scaled.columns,  \n",
    "    'importance': importances\n",
    "})\n",
    "\n",
    "#trier ordre croissant\n",
    "feature_importance_df = feature_importance_df.sort_values(by='importance', ascending=False)\n",
    "print(feature_importance_df)\n"
   ]
  },
  {
   "cell_type": "markdown",
   "metadata": {},
   "source": [
    "TODO : inférence à la main"
   ]
  },
  {
   "cell_type": "markdown",
   "metadata": {},
   "source": [
    "\n",
    "4.2 Equité des modèles"
   ]
  }
 ],
 "metadata": {
  "kernelspec": {
   "display_name": "clustering-tp",
   "language": "python",
   "name": "python3"
  },
  "language_info": {
   "codemirror_mode": {
    "name": "ipython",
    "version": 3
   },
   "file_extension": ".py",
   "mimetype": "text/x-python",
   "name": "python",
   "nbconvert_exporter": "python",
   "pygments_lexer": "ipython3",
   "version": "3.12.7"
  }
 },
 "nbformat": 4,
 "nbformat_minor": 2
}
